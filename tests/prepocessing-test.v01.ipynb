{
 "cells": [
  {
   "cell_type": "markdown",
   "metadata": {},
   "source": [
    "# Pre-processing Misc"
   ]
  },
  {
   "cell_type": "markdown",
   "metadata": {},
   "source": [
    "## General"
   ]
  },
  {
   "cell_type": "code",
   "execution_count": 1,
   "metadata": {
    "ExecuteTime": {
     "end_time": "2018-09-06T16:21:37.253887Z",
     "start_time": "2018-09-06T16:21:37.240323Z"
    }
   },
   "outputs": [
    {
     "data": {
      "text/plain": [
       "'BruceCottman'"
      ]
     },
     "execution_count": 1,
     "metadata": {},
     "output_type": "execute_result"
    }
   ],
   "source": [
    "__author__ = 'BruceCottman'\n",
    "__author__"
   ]
  },
  {
   "cell_type": "markdown",
   "metadata": {},
   "source": [
    "## imports"
   ]
  },
  {
   "cell_type": "code",
   "execution_count": 1,
   "metadata": {
    "ExecuteTime": {
     "end_time": "2018-09-07T23:16:49.889645Z",
     "start_time": "2018-09-07T23:16:49.382671Z"
    }
   },
   "outputs": [],
   "source": [
    "import pandas as pd\n",
    "import copy, random\n",
    "import numpy as np\n",
    "from numba import jit\n",
    "from tqdm import tqdm\n",
    "from glob import glob\n",
    "import string as str"
   ]
  },
  {
   "cell_type": "code",
   "execution_count": 2,
   "metadata": {
    "ExecuteTime": {
     "end_time": "2018-09-07T23:16:57.034316Z",
     "start_time": "2018-09-07T23:16:57.022472Z"
    }
   },
   "outputs": [
    {
     "data": {
      "text/plain": [
       "['',\n",
       " '/Users/brucecottman/anaconda3/envs/steppy/lib/python36.zip',\n",
       " '/Users/brucecottman/anaconda3/envs/steppy/lib/python3.6',\n",
       " '/Users/brucecottman/anaconda3/envs/steppy/lib/python3.6/lib-dynload',\n",
       " '/Users/brucecottman/.local/lib/python3.6/site-packages',\n",
       " '/Users/brucecottman/anaconda3/envs/steppy/lib/python3.6/site-packages',\n",
       " '/Users/brucecottman/anaconda3/envs/steppy/lib/python3.6/site-packages/aeosa',\n",
       " '/Users/brucecottman/anaconda3/envs/steppy/lib/python3.6/site-packages/pip-18.0-py3.6.egg',\n",
       " '/Users/brucecottman/anaconda3/envs/steppy/lib/python3.6/site-packages/IPython/extensions',\n",
       " '/Users/brucecottman/.ipython',\n",
       " '/Users/brucecottman/Documents/PROJECTS/steppy-toolkit']"
      ]
     },
     "execution_count": 2,
     "metadata": {},
     "output_type": "execute_result"
    }
   ],
   "source": [
    "import os,sys\n",
    "sys.path.append(os.path.abspath('../'))\n",
    "sys.path"
   ]
  },
  {
   "cell_type": "code",
   "execution_count": 3,
   "metadata": {
    "ExecuteTime": {
     "end_time": "2018-09-07T23:17:01.354065Z",
     "start_time": "2018-09-07T23:17:01.214223Z"
    }
   },
   "outputs": [],
   "source": [
    "from steppy.base import Step, BaseTransformer, make_transformer\n",
    "from steppy.adapter import Adapter, E\n",
    "from steppy.utils import get_logger\n",
    "import joblib"
   ]
  },
  {
   "cell_type": "code",
   "execution_count": 5,
   "metadata": {
    "ExecuteTime": {
     "end_time": "2018-09-07T23:18:04.766897Z",
     "start_time": "2018-09-07T23:18:04.485949Z"
    }
   },
   "outputs": [],
   "source": [
    "from toolkit.preprocessing.S_Scalers import __ScalerDict__"
   ]
  },
  {
   "cell_type": "markdown",
   "metadata": {},
   "source": [
    "\n",
    "Level\tNumeric value\n",
    "-   CRITICAL\t50\n",
    "-    ERROR\t40\n",
    "-    WARNING\t30\n",
    "-    INFO\t20\n",
    "-    DEBUG\t10\n",
    "-    NOTSET\t0"
   ]
  },
  {
   "cell_type": "code",
   "execution_count": 6,
   "metadata": {
    "ExecuteTime": {
     "end_time": "2018-08-22T17:52:20.980918Z",
     "start_time": "2018-08-22T17:52:20.977701Z"
    },
    "collapsed": true
   },
   "outputs": [],
   "source": [
    "logger = get_logger()"
   ]
  },
  {
   "cell_type": "code",
   "execution_count": 11,
   "metadata": {
    "ExecuteTime": {
     "end_time": "2018-08-21T21:34:24.647581Z",
     "start_time": "2018-08-21T21:34:24.641250Z"
    }
   },
   "outputs": [
    {
     "data": {
      "text/plain": [
       "10"
      ]
     },
     "execution_count": 11,
     "metadata": {},
     "output_type": "execute_result"
    }
   ],
   "source": [
    "logger.setLevel('DEBUG'.upper())\n",
    "logger.getEffectiveLevel()"
   ]
  },
  {
   "cell_type": "code",
   "execution_count": 7,
   "metadata": {
    "ExecuteTime": {
     "end_time": "2018-08-22T17:52:38.135409Z",
     "start_time": "2018-08-22T17:52:36.922179Z"
    }
   },
   "outputs": [
    {
     "name": "stderr",
     "output_type": "stream",
     "text": [
      "/Users/brucecottman/anaconda3/envs/steppy/lib/python3.6/importlib/_bootstrap.py:219: RuntimeWarning: numpy.dtype size changed, may indicate binary incompatibility. Expected 96, got 88\n",
      "  return f(*args, **kwds)\n",
      "/Users/brucecottman/anaconda3/envs/steppy/lib/python3.6/site-packages/statsmodels/compat/pandas.py:56: FutureWarning: The pandas.core.datetools module is deprecated and will be removed in a future version. Please use the pandas.tseries module instead.\n",
      "  from pandas.core import datetools\n"
     ]
    }
   ],
   "source": [
    "from __future__ import print_function\n",
    "import matplotlib as mpl\n",
    "from matplotlib import pyplot as plt\n",
    "from matplotlib import cm\n",
    "import probscale\n",
    "import seaborn as sns\n",
    "from scipy.stats import probplot\n",
    "import statsmodels.api as sm\n",
    "\n",
    "%reload_ext autoreload\n",
    "%autoreload 2\n",
    "%matplotlib inline\n",
    "import matplotli"
   ]
  },
  {
   "cell_type": "code",
   "execution_count": null,
   "metadata": {},
   "outputs": [],
   "source": [
    "!conda list"
   ]
  },
  {
   "cell_type": "markdown",
   "metadata": {},
   "source": [
    "## Input  Datasets"
   ]
  },
  {
   "cell_type": "markdown",
   "metadata": {},
   "source": [
    "Continuous features can exhibit a wide range of distributional characteristics, including near-Gaussian, strongly asymmetric, light- or heavy-tailed, multi-moda\n",
    "\n",
    "Catagorical features  can be  either ordered, or unordered. Catagorical features are not covered here."
   ]
  },
  {
   "cell_type": "markdown",
   "metadata": {
    "heading_collapsed": true
   },
   "source": [
    "### Boston Dataset"
   ]
  },
  {
   "cell_type": "code",
   "execution_count": 13,
   "metadata": {
    "ExecuteTime": {
     "end_time": "2018-08-21T21:34:25.104542Z",
     "start_time": "2018-08-21T21:34:24.924741Z"
    },
    "hidden": true
   },
   "outputs": [
    {
     "name": "stdout",
     "output_type": "stream",
     "text": [
      "2018-08-21 17:34:25 steppy >>> ['CRIM' 'ZN' 'INDUS' 'CHAS' 'NOX' 'RM' 'AGE' 'DIS' 'RAD' 'TAX' 'PTRATIO'\n",
      " 'B' 'LSTAT']\n",
      "2018-08-21 17:34:25 steppy >>> Boston House Prices dataset\n",
      "===========================\n",
      "\n",
      "Notes\n",
      "------\n",
      "Data Set Characteristics:  \n",
      "\n",
      "    :Number of Instances: 506 \n",
      "\n",
      "    :Number of Attributes: 13 numeric/categorical predictive\n",
      "    \n",
      "    :Median Value (attribute 14) is usually the target\n",
      "\n",
      "    :Attribute Information (in order):\n",
      "        - CRIM     per capita crime rate by town\n",
      "        - ZN       proportion of residential land zoned for lots over 25,000 sq.ft.\n",
      "        - INDUS    proportion of non-retail business acres per town\n",
      "        - CHAS     Charles River dummy variable (= 1 if tract bounds river; 0 otherwise)\n",
      "        - NOX      nitric oxides concentration (parts per 10 million)\n",
      "        - RM       average number of rooms per dwelling\n",
      "        - AGE      proportion of owner-occupied units built prior to 1940\n",
      "        - DIS      weighted distances to five Boston employment centres\n",
      "        - RAD      index of accessibility to radial highways\n",
      "        - TAX      full-value property-tax rate per $10,000\n",
      "        - PTRATIO  pupil-teacher ratio by town\n",
      "        - B        1000(Bk - 0.63)^2 where Bk is the proportion of blacks by town\n",
      "        - LSTAT    % lower status of the population\n",
      "        - MEDV     Median value of owner-occupied homes in $1000's\n",
      "\n",
      "    :Missing Attribute Values: None\n",
      "\n",
      "    :Creator: Harrison, D. and Rubinfeld, D.L.\n",
      "\n",
      "This is a copy of UCI ML housing dataset.\n",
      "http://archive.ics.uci.edu/ml/datasets/Housing\n",
      "\n",
      "\n",
      "This dataset was taken from the StatLib library which is maintained at Carnegie Mellon University.\n",
      "\n",
      "The Boston house-price data of Harrison, D. and Rubinfeld, D.L. 'Hedonic\n",
      "prices and the demand for clean air', J. Environ. Economics & Management,\n",
      "vol.5, 81-102, 1978.   Used in Belsley, Kuh & Welsch, 'Regression diagnostics\n",
      "...', Wiley, 1980.   N.B. Various transformations are used in the table on\n",
      "pages 244-261 of the latter.\n",
      "\n",
      "The Boston house-price data has been used in many machine learning papers that address regression\n",
      "problems.   \n",
      "     \n",
      "**References**\n",
      "\n",
      "   - Belsley, Kuh & Welsch, 'Regression diagnostics: Identifying Influential Data and Sources of Collinearity', Wiley, 1980. 244-261.\n",
      "   - Quinlan,R. (1993). Combining Instance-Based and Model-Based Learning. In Proceedings on the Tenth International Conference of Machine Learning, 236-243, University of Massachusetts, Amherst. Morgan Kaufmann.\n",
      "   - many more! (see http://archive.ics.uci.edu/ml/datasets/Housing)\n",
      "\n",
      "2018-08-21 17:34:25 steppy >>> (506, 6)\n",
      "2018-08-21 17:34:25 steppy >>> Index(['CRIM', 'INDUS', 'NOX', 'TAX', 'B', 'MEDV'], dtype='object')\n"
     ]
    }
   ],
   "source": [
    "from sklearn.datasets import load_boston\n",
    "boston = load_boston()\n",
    "\n",
    "logger.info(boston.feature_names)\n",
    "logger.info(boston.DESCR)\n",
    "City = pd.DataFrame(boston.data, columns = boston.feature_names )\n",
    "City = City[['CRIM', 'INDUS','NOX','TAX','B']]\n",
    "City['MEDV'] = boston.target\n",
    "logger.info(City.shape)\n",
    "logger.info(City.columns)"
   ]
  },
  {
   "cell_type": "markdown",
   "metadata": {
    "hidden": true
   },
   "source": [
    "A dataset that illustrates the range of distributional behavior is the Boston Boston dataframe.  This dataframe includes 14 numerical variables that characterize 506 suburban housing tracts in the Boston area: 12 of these variables have class “numeric” and the remaining two have class “integer”.  \n",
    "\n",
    "-  the distribution of crim is very asymmetric with an extremely heavy right tail;\n",
    "- the distribution of lstat is also clearly asymmetric but far less so;\n",
    "- the distribution of rm appears to be almost Gaussian; \n",
    "- the distribution of zn appears to be tri-modal, mostly concentrated around zero, but with clear secondary peaks at around 20 and 80."
   ]
  },
  {
   "cell_type": "markdown",
   "metadata": {
    "heading_collapsed": true
   },
   "source": [
    "### Housing Dataset"
   ]
  },
  {
   "cell_type": "markdown",
   "metadata": {
    "hidden": true
   },
   "source": [
    "- Feature 0 (median income in a block) and feature 5 (number of households) of\n",
    "the `California housing dataset\n",
    "<http://www.dcc.fc.up.pt/~ltorgo/Regression/cal_housing.html>`_ have very\n",
    "different scales and contain some very large outliers. These two\n",
    "characteristics lead to difficulties to visualize the data and, more\n",
    "importantly, they can degrade the predictive performance of many machine\n",
    "learning algorithms. Unscaled data can also slow down or even prevent the\n",
    "convergence of many gradient-based estimators.\n",
    "- Indeed many estimators are designed with the assumption that each feature takes\n",
    "values close to zero or more importantly that all features vary on comparable\n",
    "scales. In particular, metric-based and gradient-based estimators often assume\n",
    "approximately standardized data (centered features with unit variances). A\n",
    "notable exception are decision tree-based estimators that are robust to\n",
    "arbitrary scaling of the data."
   ]
  },
  {
   "cell_type": "code",
   "execution_count": 14,
   "metadata": {
    "ExecuteTime": {
     "end_time": "2018-08-21T21:34:25.195573Z",
     "start_time": "2018-08-21T21:34:25.107049Z"
    },
    "hidden": true
   },
   "outputs": [
    {
     "name": "stdout",
     "output_type": "stream",
     "text": [
      "Automatically created module for IPython interactive environment\n",
      "2018-08-21 17:34:25 steppy >>> (20640, 8)\n",
      "2018-08-21 17:34:25 steppy >>> ['MedInc', 'HouseAge', 'AveRooms', 'AveBedrms', 'Population', 'AveOccup', 'Latitude', 'Longitude']\n",
      "2018-08-21 17:34:25 steppy >>> California housing dataset.\n",
      "\n",
      "The original database is available from StatLib\n",
      "\n",
      "    http://lib.stat.cmu.edu/datasets/\n",
      "\n",
      "The data contains 20,640 observations on 9 variables.\n",
      "\n",
      "This dataset contains the average house value as target variable\n",
      "and the following input variables (features): average income,\n",
      "housing average age, average rooms, average bedrooms, population,\n",
      "average occupation, latitude, and longitude in that order.\n",
      "\n",
      "References\n",
      "----------\n",
      "\n",
      "Pace, R. Kelley and Ronald Barry, Sparse Spatial Autoregressions,\n",
      "Statistics and Probability Letters, 33 (1997) 291-297.\n",
      "\n",
      "\n",
      "2018-08-21 17:34:25 steppy >>> (20640, 6)\n",
      "2018-08-21 17:34:25 steppy >>> Index(['MedInc', 'HouseAge', 'AveRooms', 'AveBedrms', 'Population',\n",
      "       'AveOccup'],\n",
      "      dtype='object')\n"
     ]
    }
   ],
   "source": [
    "from sklearn.datasets import fetch_california_housing\n",
    "print(__doc__)\n",
    "dataset = fetch_california_housing()\n",
    "X_full, y_full = dataset.data, dataset.target\n",
    "\n",
    "# Take only 2 features to make visualization easier\n",
    "# Feature of 0 has a long tail distribution.\n",
    "# Feature 5 has a few but very large outliers.\n",
    "logger.info(dataset.data.shape)\n",
    "logger.info(dataset.feature_names)\n",
    "logger.info(dataset.DESCR) \n",
    "Housing = pd.DataFrame(dataset.data, columns = dataset.feature_names )\n",
    "Housing = Housing[['MedInc', 'HouseAge', 'AveRooms'\n",
    "                   , 'AveBedrms', 'Population', 'AveOccup']]\n",
    "logger.info(Housing.shape)\n",
    "logger.info(Housing.columns)"
   ]
  },
  {
   "cell_type": "markdown",
   "metadata": {},
   "source": [
    "### Hip_m Dataset"
   ]
  },
  {
   "cell_type": "code",
   "execution_count": 15,
   "metadata": {
    "ExecuteTime": {
     "end_time": "2018-08-21T21:34:59.817923Z",
     "start_time": "2018-08-21T21:34:25.198086Z"
    }
   },
   "outputs": [
    {
     "name": "stderr",
     "output_type": "stream",
     "text": [
      "/Users/brucecottman/anaconda3/envs/steppy/lib/python3.6/site-packages/ipykernel_launcher.py:1: VisibleDeprecationWarning: Reading unicode strings without specifying the encoding argument is deprecated. Set the encoding, use None for the system default.\n",
      "  \"\"\"Entry point for launching an IPython kernel.\n"
     ]
    },
    {
     "name": "stdout",
     "output_type": "stream",
     "text": [
      "2018-08-21 17:34:59 steppy >>> (2724987, 2)\n",
      "2018-08-21 17:34:59 steppy >>>          f1    f3\n",
      "0   9918166  0.31\n",
      "1   9918296  0.31\n",
      "2  98252982  0.28\n",
      "3  98253133  0.36\n",
      "4  98253681  0.65\n"
     ]
    }
   ],
   "source": [
    "hip_m=np.genfromtxt('HIP_MEN_chr_pos_rs_pval.txt', dtype=None)\n",
    "hip_m= pd.DataFrame(hip_m[['f0','f1','f2','f3']])\n",
    "Hip_m= hip_m\n",
    "hip_m= hip_m[['f1','f3']]\n",
    "logger.info(hip_m.shape)\n",
    "logger.info(hip_m.head())"
   ]
  },
  {
   "cell_type": "markdown",
   "metadata": {},
   "source": [
    "## Plot Distribution Defintions"
   ]
  },
  {
   "cell_type": "markdown",
   "metadata": {
    "heading_collapsed": true
   },
   "source": [
    "### SeabornFig2Grid"
   ]
  },
  {
   "cell_type": "code",
   "execution_count": 17,
   "metadata": {
    "ExecuteTime": {
     "end_time": "2018-08-21T21:35:00.237348Z",
     "start_time": "2018-08-21T21:35:00.165389Z"
    },
    "collapsed": true,
    "hidden": true
   },
   "outputs": [],
   "source": [
    "import matplotlib.gridspec as gridspec\n",
    "\n",
    "class SeabornFig2Grid():\n",
    "\n",
    "    def __init__(self, seaborngrid, fig,  subplot_spec):\n",
    "        self.fig = fig\n",
    "        self.sg = seaborngrid\n",
    "        self.subplot = subplot_spec\n",
    "        if isinstance(self.sg, sns.axisgrid.FacetGrid) or \\\n",
    "            isinstance(self.sg, sns.axisgrid.PairGrid):\n",
    "            self._movegrid()\n",
    "        elif isinstance(self.sg, sns.axisgrid.JointGrid):\n",
    "            self._movejointgrid()\n",
    "        self._finalize()\n",
    "\n",
    "    def _movegrid(self):\n",
    "        \"\"\" Move PairGrid or Facetgrid \"\"\"\n",
    "        self._resize()\n",
    "        n = self.sg.axes.shape[0]\n",
    "        m = self.sg.axes.shape[1]\n",
    "        self.subgrid = gridspec.GridSpecFromSubplotSpec(n,m, subplot_spec=self.subplot)\n",
    "        for i in range(n):\n",
    "            for j in range(m):\n",
    "                self._moveaxes(self.sg.axes[i,j], self.subgrid[i,j])\n",
    "\n",
    "    def _movejointgrid(self):\n",
    "        \"\"\" Move Jointgrid \"\"\"\n",
    "        h= self.sg.ax_joint.get_position().height\n",
    "        h2= self.sg.ax_marg_x.get_position().height\n",
    "        r = int(np.round(h/h2))\n",
    "        self._resize()\n",
    "        self.subgrid = gridspec.GridSpecFromSubplotSpec(r+1,r+1, subplot_spec=self.subplot)\n",
    "\n",
    "        self._moveaxes(self.sg.ax_joint, self.subgrid[1:, :-1])\n",
    "        self._moveaxes(self.sg.ax_marg_x, self.subgrid[0, :-1])\n",
    "        self._moveaxes(self.sg.ax_marg_y, self.subgrid[1:, -1])\n",
    "\n",
    "    def _moveaxes(self, ax, gs):\n",
    "        #https://stackoverflow.com/a/46906599/4124317\n",
    "        ax.remove()\n",
    "        ax.figure=self.fig\n",
    "        self.fig.axes.append(ax)\n",
    "        self.fig.add_axes(ax)\n",
    "        ax._subplotspec = gs\n",
    "        ax.set_position(gs.get_position(self.fig))\n",
    "        ax.set_subplotspec(gs)\n",
    "\n",
    "    def _finalize(self):\n",
    "        plt.close(self.sg.fig)\n",
    "        self.fig.canvas.mpl_connect(\"resize_event\", self._resize)\n",
    "        self.fig.canvas.draw()\n",
    "\n",
    "    def _resize(self, evt=None):\n",
    "        self.sg.fig.set_size_inches(self.fig.get_size_inches())"
   ]
  },
  {
   "cell_type": "code",
   "execution_count": 18,
   "metadata": {
    "ExecuteTime": {
     "end_time": "2018-08-21T21:35:04.789401Z",
     "start_time": "2018-08-21T21:35:00.240264Z"
    },
    "hidden": true
   },
   "outputs": [
    {
     "name": "stderr",
     "output_type": "stream",
     "text": [
      "/Users/brucecottman/anaconda3/envs/steppy/lib/python3.6/site-packages/scipy/stats/stats.py:1633: FutureWarning: Using a non-tuple sequence for multidimensional indexing is deprecated; use `arr[tuple(seq)]` instead of `arr[seq]`. In the future this will be interpreted as an array index, `arr[np.array(seq)]`, which will result either in an error or a different result.\n",
      "  return np.add.reduce(sorted[indexer] * weights, axis=axis) / sumval\n"
     ]
    },
    {
     "data": {
      "image/png": "[encoded data removed]",
      "text/plain": [
       "<matplotlib.figure.Figure at 0x152a10160>"
      ]
     },
     "metadata": {},
     "output_type": "display_data"
    }
   ],
   "source": [
    "#import SeabornFig2Grid as sfg\n",
    "\n",
    "\n",
    "sns.set()\n",
    "\n",
    "iris = sns.load_dataset(\"iris\")\n",
    "tips = sns.load_dataset(\"tips\")\n",
    "\n",
    "# An lmplot\n",
    "g0 = sns.lmplot(x=\"total_bill\", y=\"tip\", hue=\"smoker\", data=tips, \n",
    "                palette=dict(Yes=\"g\", No=\"m\"))\n",
    "# A PairGrid\n",
    "g1 = sns.PairGrid(iris, hue=\"species\")\n",
    "g1.map(plt.scatter, s=5)\n",
    "# A FacetGrid\n",
    "g2 = sns.FacetGrid(tips, col=\"time\",  hue=\"smoker\")\n",
    "g2.map(plt.scatter, \"total_bill\", \"tip\", edgecolor=\"w\")\n",
    "# A JointGrid\n",
    "g3 = sns.jointplot(\"sepal_width\", \"petal_length\", data=iris,\n",
    "                   kind=\"kde\", space=0, color=\"g\")\n",
    "\n",
    "\n",
    "fig = plt.figure(figsize=(13,8))\n",
    "gs = gridspec.GridSpec(2, 2)\n",
    "\n",
    "mg0 = SeabornFig2Grid(g0, fig, gs[0])\n",
    "mg1 = SeabornFig2Grid(g1, fig, gs[1])\n",
    "mg2 = SeabornFig2Grid(g2, fig, gs[3])\n",
    "mg3 = SeabornFig2Grid(g3, fig, gs[2])\n",
    "\n",
    "gs.tight_layout(fig)\n",
    "#gs.update(top=0.7)\n",
    "\n",
    "plt.show()\n"
   ]
  },
  {
   "cell_type": "code",
   "execution_count": 19,
   "metadata": {
    "ExecuteTime": {
     "end_time": "2018-08-21T21:35:08.006861Z",
     "start_time": "2018-08-21T21:35:04.791704Z"
    },
    "hidden": true
   },
   "outputs": [
    {
     "name": "stderr",
     "output_type": "stream",
     "text": [
      "/Users/brucecottman/anaconda3/envs/steppy/lib/python3.6/site-packages/scipy/stats/stats.py:1633: FutureWarning: Using a non-tuple sequence for multidimensional indexing is deprecated; use `arr[tuple(seq)]` instead of `arr[seq]`. In the future this will be interpreted as an array index, `arr[np.array(seq)]`, which will result either in an error or a different result.\n",
      "  return np.add.reduce(sorted[indexer] * weights, axis=axis) / sumval\n"
     ]
    },
    {
     "data": {
      "image/png": "[encoded data removed]",
      "text/plain": [
       "<matplotlib.figure.Figure at 0x139aad9e8>"
      ]
     },
     "metadata": {},
     "output_type": "display_data"
    }
   ],
   "source": [
    "sns.set()\n",
    "\n",
    "iris = sns.load_dataset(\"iris\")\n",
    "tips = sns.load_dataset(\"tips\")\n",
    "\n",
    "g2 = sns.jointplot(\"sepal_width\", \"petal_length\", data=iris,\n",
    "                   kind=\"kde\", space=0, color=\"g\")\n",
    "g3 = sns.jointplot(\"sepal_width\", \"petal_length\", data=iris,\n",
    "                   kind=\"kde\", space=0, color=\"b\")\n",
    "\n",
    "\n",
    "fig = plt.figure(figsize=(4*3,4))\n",
    "gs = gridspec.GridSpec(2, 1)\n",
    "\n",
    "#mg0 = SeabornFig2Grid(g0, fig, gs[0])\n",
    "#mg1 = SeabornFig2Grid(g1, fig, gs[1])\n",
    "#mg2 = SeabornFig2Grid(g2, fig, gs[3])\n",
    "mg0 = SeabornFig2Grid(g2, fig, gs[0])\n",
    "mg1 = SeabornFig2Grid(g3, fig, gs[1])\n",
    "#mg2 = SeabornFig2Grid(g3, fig, gs[2])\n",
    "gs.tight_layout(fig)\n",
    "#gs.update(top=0.7)\n",
    "\n",
    "plt.show()"
   ]
  },
  {
   "cell_type": "markdown",
   "metadata": {
    "heading_collapsed": true
   },
   "source": [
    "### ppqqp_plot"
   ]
  },
  {
   "cell_type": "code",
   "execution_count": 20,
   "metadata": {
    "ExecuteTime": {
     "end_time": "2018-08-21T21:35:08.081329Z",
     "start_time": "2018-08-21T21:35:08.009396Z"
    },
    "collapsed": true,
    "hidden": true
   },
   "outputs": [],
   "source": [
    "def ppqqp_plot(X,name,sze=100,dist=None):\n",
    "    '''\n",
    "    3 plots \n",
    "    1. Percentile, a.k.a. P-P plot\n",
    "    2 .Quantile, a.k.a. Q-Q plot (normal distribution)\n",
    "    3. Probability, a.k.a. Prob Plot\n",
    "    quick and dirty no numpy or other dist checking\n",
    "    - X must be a pandas series\n",
    "    - name: label name\n",
    "    - size: (default: 100) is sample size of X \n",
    "    - dist: (default: none)  When using quantile or probability scales,\n",
    "    you can pass a distribution from the scipy.stats module\n",
    "    to the probplot function. When a distribution is not provided \n",
    "    to the dist parameter, a standard normal distribution is used.\n",
    "    - return: boolean of sucess\n",
    "    '''\n",
    "\n",
    "    logger.debug('ppqqp_plot:')        \n",
    "    if not ((X.dtype == np.int) or (X.dtype == np.float)):\n",
    "        # not numeric\n",
    "        logger.error('ppqqp was passed a distrubtion not numeric but of type: {})'.format(X.dtype))\n",
    "        return(False)\n",
    "    if type(X) == np.ndarray:\n",
    "        if len(X) > sze: X = np.random.choice(X,sze)\n",
    "    elif type(X) == pd.core.series.Series:\n",
    "        if len(X) > sze: X = X.sample(sze)\n",
    "    else:\n",
    "        logger.error('ppqqp was passed a distrubtion not numeric but of type: {})'.format(X.dtype))\n",
    "        return(False)\n",
    "    ax = [0,1,3]\n",
    "    fig, (ax[0], ax[1],ax[2]) = plt.subplots(figsize=(12, 4), ncols=3)\n",
    "    gp = probscale.probplot(X, ax=ax[0], plottype='pp', bestfit=True,\n",
    "                             problabel='Percentile', datalabel=name,\n",
    "                             scatter_kws=dict(label=name),\n",
    "                             line_kws=dict(label='Best Fit line'))\n",
    "    fig = probscale.probplot(X, ax=ax[1], plottype='qq', bestfit=True, dist=dist,\n",
    "                             problabel='Standard Normal Quantiles', datalabel=name,\n",
    "                             scatter_kws=dict(label=name),\n",
    "                             line_kws=dict(label='Normal QQ line'))\n",
    "    fig = probscale.probplot(X, ax=ax[2], plottype='prob', bestfit=True,dist=dist,\n",
    "                             problabel='Standard Normal Probalities', datalabel=name,\n",
    "                             scatter_kws=dict(label=name),\n",
    "                             line_kws=dict(label='Normal Probalities line'))\n",
    "    ax[0].legend(loc='upper left');ax[1].legend(loc='upper left');ax[2].legend(loc='upper left')\n",
    "    return(True)"
   ]
  },
  {
   "cell_type": "markdown",
   "metadata": {
    "heading_collapsed": true
   },
   "source": [
    "### dualplot"
   ]
  },
  {
   "cell_type": "code",
   "execution_count": 21,
   "metadata": {
    "ExecuteTime": {
     "end_time": "2018-08-21T21:35:08.150307Z",
     "start_time": "2018-08-21T21:35:08.084043Z"
    },
    "collapsed": true,
    "hidden": true
   },
   "outputs": [],
   "source": [
    "def dualplot(dist,ytest):\n",
    "    logger.debug('dualplot:')\n",
    "    df = pd.DataFrame({'theory': dist,'actual': ytest})\n",
    "    fig = plt.figure(figsize=(4,4))\n",
    "    gp = sns.jointplot('actual', 'theory', df, stat_func=None, kind='hex')\n",
    "    return(gp)"
   ]
  },
  {
   "cell_type": "markdown",
   "metadata": {
    "heading_collapsed": true
   },
   "source": [
    "### Plot_Distribution_c"
   ]
  },
  {
   "cell_type": "code",
   "execution_count": 22,
   "metadata": {
    "ExecuteTime": {
     "end_time": "2018-08-21T21:35:08.221626Z",
     "start_time": "2018-08-21T21:35:08.152952Z"
    },
    "collapsed": true,
    "hidden": true
   },
   "outputs": [],
   "source": [
    "#side effect is a plot, nothing to save\n",
    "# no state to save\n",
    "#maybe save plot in (or X) in future version\n",
    "from matplotlib import colors as mcolors\n",
    "\n",
    "class Plot_Distribution_c(BaseTransformer):\n",
    "    def __init__(self,label='',dist_name=''\n",
    "                 ,title='Distribution',*args,**kwargs):\n",
    "        super().__init__()\n",
    "        self.title = title\n",
    "        self.label = label\n",
    "        self.dist_name = dist_name\n",
    "        self.color_list = list(mcolors.CSS4_COLORS.keys())[51:100]\n",
    "    \n",
    "    def fit(self, X_o,X):\n",
    "        logger.debug('Plot_Distribution_c fit:')\n",
    "        return self\n",
    "\n",
    "# X_o: orginal\n",
    "# X ->  X = f(X_o)\n",
    "    def transform(self, X_o,X):\n",
    "        logger.debug('Plot_Distribution_c transform:')\n",
    "        for feat in list(X_o.columns):  # assume df,fix later\n",
    "            vth = list(X_o.columns).index(feat)\n",
    "            self.dist_name = ' '+feat\n",
    "            dualplot(X_o[feat],X[:,vth])\n",
    "            ppqqp_plot(X[:,vth],self.label+self.dist_name)\n",
    "        return self\n",
    "    \n",
    "    def fit_transform(self, X_o,X):\n",
    "        return((self.fit(X_o,X)).transform(X_o,X))\n",
    "\n",
    "    def load(self, filepath):\n",
    "        return self\n",
    "\n",
    "    def persist(self, filepath):\n",
    "        pass"
   ]
  },
  {
   "cell_type": "markdown",
   "metadata": {
    "heading_collapsed": true
   },
   "source": [
    "### fooplot definitions"
   ]
  },
  {
   "cell_type": "code",
   "execution_count": 23,
   "metadata": {
    "ExecuteTime": {
     "end_time": "2018-08-21T21:35:08.289218Z",
     "start_time": "2018-08-21T21:35:08.224340Z"
    },
    "collapsed": true,
    "hidden": true
   },
   "outputs": [],
   "source": [
    "def fooplot(dnames,scaler_list,size):\n",
    "\n",
    "    for dname,args in dnames:\n",
    "        for scalar in scaler_list:\n",
    "            logger.debug('{}  {}:    {} '.format(scalar,args,dname))\n",
    "            if args == 'none': \n",
    "                dist = StatDistributionDict[dname](size=size)\n",
    "            else: \n",
    "                dist = StatDistributionDict[dname](*args,size=size)\n",
    "            try: \n",
    "                gp = [0,1,2,3]\n",
    "                sns.set()\n",
    "                ytest = __ScalerDict__[scalar]().fit_transform(dist[:,np.newaxis])\n",
    "                gp0 = dualplot(dist,ytest)\n",
    "                ppqqp_plot(ytest,scalar+' '+ dname)\n",
    "            except: pass\n",
    "            plt.show()"
   ]
  },
  {
   "cell_type": "code",
   "execution_count": 24,
   "metadata": {
    "ExecuteTime": {
     "end_time": "2018-08-21T21:35:08.355528Z",
     "start_time": "2018-08-21T21:35:08.291761Z"
    },
    "collapsed": true,
    "hidden": true
   },
   "outputs": [],
   "source": [
    "def fooplot2(df,dnames,scaler_list,size):\n",
    "    for dname in dnames:\n",
    "        for scalar in scaler_list:\n",
    "            try:\n",
    "                dist = df[dname].values\n",
    "                ytest = __ScalerDict__[scalar]().fit_transform(dist[:,np.newaxis])\n",
    "                dualplot(dist,ytest)\n",
    "                ppqqp_plot(ytest,scalar+dname)\n",
    "            except: pass\n"
   ]
  },
  {
   "cell_type": "markdown",
   "metadata": {
    "hidden": true
   },
   "source": [
    "#### Standard Distibutions"
   ]
  },
  {
   "cell_type": "code",
   "execution_count": 11,
   "metadata": {
    "ExecuteTime": {
     "end_time": "2018-08-22T17:59:47.524266Z",
     "start_time": "2018-08-22T17:59:47.467949Z"
    },
    "collapsed": true,
    "hidden": true
   },
   "outputs": [],
   "source": [
    "import scipy\n",
    "StatDistributionDict = {}\n",
    "\n",
    "for nth,d in enumerate(scipy.stats.__all__):\n",
    "    try:\n",
    "        StatDistributionDict[d] = eval('scipy.stats.'+d+'.rvs')\n",
    "    except: pass"
   ]
  },
  {
   "cell_type": "code",
   "execution_count": 24,
   "metadata": {
    "ExecuteTime": {
     "end_time": "2018-08-22T18:04:53.993042Z",
     "start_time": "2018-08-22T18:04:53.931330Z"
    },
    "hidden": true
   },
   "outputs": [
    {
     "data": {
      "text/plain": [
       "(100000, 1)"
      ]
     },
     "metadata": {},
     "output_type": "display_data"
    },
    {
     "data": {
      "text/html": [
       "<div>\n",
       "<style scoped>\n",
       "    .dataframe tbody tr th:only-of-type {\n",
       "        vertical-align: middle;\n",
       "    }\n",
       "\n",
       "    .dataframe tbody tr th {\n",
       "        vertical-align: top;\n",
       "    }\n",
       "\n",
       "    .dataframe thead th {\n",
       "        text-align: right;\n",
       "    }\n",
       "</style>\n",
       "<table border=\"1\" class=\"dataframe\">\n",
       "  <thead>\n",
       "    <tr style=\"text-align: right;\">\n",
       "      <th></th>\n",
       "      <th>Gamma</th>\n",
       "    </tr>\n",
       "  </thead>\n",
       "  <tbody>\n",
       "    <tr>\n",
       "      <th>0</th>\n",
       "      <td>0.432566</td>\n",
       "    </tr>\n",
       "    <tr>\n",
       "      <th>1</th>\n",
       "      <td>0.022471</td>\n",
       "    </tr>\n",
       "  </tbody>\n",
       "</table>\n",
       "</div>"
      ],
      "text/plain": [
       "      Gamma\n",
       "0  0.432566\n",
       "1  0.022471"
      ]
     },
     "metadata": {},
     "output_type": "display_data"
    }
   ],
   "source": [
    "# change this to dtermine siza/lenth of Gamma_Dist\n",
    "size = 100000\n",
    "dist = StatDistributionDict['gamma'](1.0,size=size)\n",
    "Gamma_Dist = pd.DataFrame({'Gamma': dist})\n",
    "display(Gamma_Dist.shape)\n",
    "display(Gamma_Dist.head(n=2))"
   ]
  },
  {
   "cell_type": "code",
   "execution_count": 25,
   "metadata": {
    "ExecuteTime": {
     "end_time": "2018-08-22T18:06:05.250354Z",
     "start_time": "2018-08-22T18:06:05.194309Z"
    },
    "hidden": true
   },
   "outputs": [
    {
     "data": {
      "text/plain": [
       "[['beta', [2.0, 1.0]],\n",
       " ['alpha', [0.75]],\n",
       " ['uniform', 'none'],\n",
       " ['cauchy', 'none'],\n",
       " ['ksone', [1000]],\n",
       " ['boltzmann', [1.4, 19]],\n",
       " ['laplace', [3.0]],\n",
       " ['tukeylambda', [3.0]],\n",
       " ['dweibull', [3.0]],\n",
       " ['chi2', [3.0]],\n",
       " ['exponnorm', [1]],\n",
       " ['norm', 'none']]"
      ]
     },
     "execution_count": 25,
     "metadata": {},
     "output_type": "execute_result"
    }
   ],
   "source": [
    "# statiscal distribution with parameters\n",
    "dnames = [['beta',[2.0,1.0]],['alpha',[0.75]]\n",
    "          ,['uniform','none'],['cauchy','none']\n",
    "          ,['ksone',[1000]],['boltzmann',[1.4, 19]]\n",
    "          ,['laplace',[3.0]],['tukeylambda',[3.0]]\n",
    "          ,['dweibull',[3.0]],['chi2',[3.0]]\n",
    "          ,['exponnorm',[1]],['norm','none']]\n",
    "dnames"
   ]
  },
  {
   "cell_type": "markdown",
   "metadata": {
    "heading_collapsed": true,
    "hidden": true
   },
   "source": [
    "#### Housing"
   ]
  },
  {
   "cell_type": "code",
   "execution_count": 29,
   "metadata": {
    "ExecuteTime": {
     "end_time": "2018-08-21T21:35:32.199267Z",
     "start_time": "2018-08-21T21:35:28.370050Z"
    },
    "collapsed": true,
    "hidden": true
   },
   "outputs": [],
   "source": [
    "df = Housing\n",
    "dnames = list(df.columns)\n",
    "scaler_list = ['BoxCoxScaler','LambertScaler'\n",
    "               ,'StandardScaler','MinMaxScaler']\n",
    "size = 10000\n",
    "\n",
    "fooplot2(df,dnames,scaler_list,size)"
   ]
  },
  {
   "cell_type": "markdown",
   "metadata": {
    "hidden": true
   },
   "source": [
    "- every transform has problems last bin of HOUSEAGE. This last could be a clip, which could be modeled as same distbution with a width of 50 (parmeterize year extension number) An experiment for another day\n",
    "- MINMAX probably does best on AVGBEDRMS at transforming into Gaussian\n",
    "- BOOXCOX does well on AVEROCCUP!!!!!"
   ]
  },
  {
   "cell_type": "markdown",
   "metadata": {
    "heading_collapsed": true,
    "hidden": true
   },
   "source": [
    "#### City"
   ]
  },
  {
   "cell_type": "code",
   "execution_count": 30,
   "metadata": {
    "ExecuteTime": {
     "end_time": "2018-08-21T21:35:32.860073Z",
     "start_time": "2018-08-21T21:35:32.201783Z"
    },
    "collapsed": true,
    "hidden": true
   },
   "outputs": [],
   "source": [
    "df = City\n",
    "dnames = list(df.columns)\n",
    "\n",
    "scaler_list = ['BoxCoxScaler','LambertScaler'\n",
    "               ,'StandardScaler','MinMaxScaler']\n",
    "\n",
    "size = 10000\n",
    "\n",
    "fooplot2(df,dnames,scaler_list,size)"
   ]
  },
  {
   "cell_type": "markdown",
   "metadata": {
    "hidden": true
   },
   "source": [
    "- 'BoxCoxScaler','LambertScaler' do best on the continuous features"
   ]
  },
  {
   "cell_type": "markdown",
   "metadata": {
    "heading_collapsed": true,
    "hidden": true
   },
   "source": [
    "#### Hip male"
   ]
  },
  {
   "cell_type": "code",
   "execution_count": 31,
   "metadata": {
    "ExecuteTime": {
     "end_time": "2018-08-21T21:35:38.831153Z",
     "start_time": "2018-08-21T21:35:32.862579Z"
    },
    "hidden": true
   },
   "outputs": [
    {
     "name": "stderr",
     "output_type": "stream",
     "text": [
      "/Users/brucecottman/anaconda3/envs/steppy/lib/python3.6/site-packages/sklearn/utils/validation.py:475: DataConversionWarning: Data with input dtype int64 was converted to float64 by MinMaxScaler.\n",
      "  warnings.warn(msg, DataConversionWarning)\n"
     ]
    }
   ],
   "source": [
    "df = hip_m\n",
    "dnames = list(df.columns)\n",
    "\n",
    "scaler_list = ['BoxCoxScaler','LambertScaler'\n",
    "               'StandardScaler','MinMaxScaler']\n",
    "\n",
    "size = 10000\n",
    "\n",
    "fooplot2(df,dnames,scaler_list,size)"
   ]
  },
  {
   "cell_type": "markdown",
   "metadata": {
    "hidden": true
   },
   "source": [
    "- BoxCox is better than Lambert at transforming into Gaussian (halfgennorm,chisq\n",
    "- - wont work on negative values (Cauchy,laplace\n",
    "- Lambert is best at bringing right or left tails towards center (by about 2 or more stds) and best at not-perturbing (changing) balanced distributions (uniform,dweibull)\n",
    "- although Standard and Robust are even better at not-perturbing any distribution\n",
    "\n",
    "- use BoxCox to transform to Gaussian\n",
    "- use Lambert for distributions with outliers to transform to more centered (less skewnn)\n",
    "- use Standard to put any feature on a standard scale"
   ]
  },
  {
   "cell_type": "markdown",
   "metadata": {},
   "source": [
    "#  Steps"
   ]
  },
  {
   "cell_type": "markdown",
   "metadata": {
    "ExecuteTime": {
     "end_time": "2018-08-09T17:47:07.146128Z",
     "start_time": "2018-08-09T17:47:07.091891Z"
    },
    "collapsed": true,
    "heading_collapsed": true
   },
   "source": [
    "## Adaptors"
   ]
  },
  {
   "cell_type": "code",
   "execution_count": 32,
   "metadata": {
    "ExecuteTime": {
     "end_time": "2018-08-21T21:35:39.156457Z",
     "start_time": "2018-08-21T21:35:38.833832Z"
    },
    "hidden": true
   },
   "outputs": [
    {
     "name": "stdout",
     "output_type": "stream",
     "text": [
      "mkdir: ../input/models: File exists\n",
      "mkdir: ../input/models/tmp: File exists\n"
     ]
    }
   ],
   "source": [
    "MODELS_DIR = '../input/models'\n",
    "EXPERIMENT_DIR = MODELS_DIR+'/tmp'\n",
    "!mkdir $MODELS_DIR\n",
    "!mkdir $EXPERIMENT_DIR\n",
    "import shutil\n",
    "\n",
    "# By default pipelines will try to load previously trained models so we delete the cache to ba sure we're starting from scratch\n",
    "shutil.rmtree(EXPERIMENT_DIR, ignore_errors=True)\n"
   ]
  },
  {
   "cell_type": "code",
   "execution_count": 33,
   "metadata": {
    "ExecuteTime": {
     "end_time": "2018-08-21T21:35:39.372896Z",
     "start_time": "2018-08-21T21:35:39.160079Z"
    },
    "collapsed": true,
    "hidden": true
   },
   "outputs": [],
   "source": [
    "some_other_bound_variable = 0\n",
    "Gamma_Dist = Gamma_Dist_o\n",
    "data_Housing = {\n",
    "    'input': {\n",
    "        'features': Gamma_Dist,\n",
    "        'features_o': Gamma_Dist_o,\n",
    "        'etc': some_other_bound_variable\n",
    "    }\n",
    "}\n",
    "\n",
    "Housing_o = Housing.copy()\n",
    "data_Housing = {\n",
    "    'input': {\n",
    "        'features': Housing,\n",
    "        'features_o': Housing_o,\n",
    "        'etc': some_other_bound_variable\n",
    "    }\n",
    "}\n",
    "City_o = City.copy()\n",
    "data_City = {\n",
    "    'input': {\n",
    "        'features': City,\n",
    "        'features_o': City_o\n",
    "    }\n",
    "}\n",
    "\n",
    "Hip_m_o = Hip_m.copy()\n",
    "data_Hip_m = {\n",
    "    'input': {\n",
    "        'features': Hip_m,\n",
    "        'features_o': Hip_m_o\n",
    "    }\n",
    "}\n",
    "\n"
   ]
  },
  {
   "cell_type": "markdown",
   "metadata": {},
   "source": [
    "# CVS-FEATHER STEP"
   ]
  },
  {
   "cell_type": "code",
   "execution_count": 162,
   "metadata": {
    "ExecuteTime": {
     "end_time": "2018-08-23T01:33:56.798768Z",
     "start_time": "2018-08-23T01:33:56.742390Z"
    }
   },
   "outputs": [
    {
     "data": {
      "text/plain": [
       "[]"
      ]
     },
     "execution_count": 162,
     "metadata": {},
     "output_type": "execute_result"
    }
   ],
   "source": [
    "pathname_pattern = ' '  #pattern\n",
    "in_ext_pattern = 'py'\n",
    "out_ext_pattern = 'fea'\n",
    "\n",
    "def find_input_files_names(in_ext_pattern,out_ext_pattern,pathname_pattern):\n",
    "    ll = glob(pathname_pattern+'*.'+in_ext_pattern)\n",
    "    tableNames = [s.replace('.'+in_ext_pattern,'') for s in ll]\n",
    "    featherNames = [s.replace(in_ext_pattern,out_ext_pattern) for s in ll]\n",
    "    return(feather_names,tableNames)\n",
    "\n",
    "featherNames,tableNames = find_input_files_names(in_ext_pattern\n",
    "                                                  ,out_ext_pattern\n",
    "                                                 ,pathname_pattern)\n",
    "tableNames\n"
   ]
  },
  {
   "cell_type": "code",
   "execution_count": 174,
   "metadata": {
    "ExecuteTime": {
     "end_time": "2018-08-23T01:37:33.644700Z",
     "start_time": "2018-08-23T01:37:33.589188Z"
    }
   },
   "outputs": [
    {
     "name": "stderr",
     "output_type": "stream",
     "text": [
      "0it [00:00, ?it/s]\n"
     ]
    }
   ],
   "source": [
    "def wh_file_in(tableNames,in_ext_pattern,pathname_pattern):\n",
    "    for f in tqdm(tableNames):\n",
    "        print(pathname_pattern,f,in_ext_pattern)\n",
    "        filen = pathname_pattern + f +'.'+in_ext_pattern\n",
    "        vars()[f] = pd.read(filen)\n",
    "        print(filen,eval(f).memory_usage().sum()/1024/1000,'MB')\n",
    "\n",
    "wh_file_in(tableNames,in_ext_pattern,pathname_pattern)"
   ]
  },
  {
   "cell_type": "code",
   "execution_count": 172,
   "metadata": {
    "ExecuteTime": {
     "end_time": "2018-08-23T01:37:18.634453Z",
     "start_time": "2018-08-23T01:37:18.581073Z"
    },
    "collapsed": true
   },
   "outputs": [],
   "source": [
    "def feather_file_out(tableNames,in_ext_pattern,out_ext_pattern\n",
    "                     ,pathname_pattern):\n",
    "    for f in tqdm(tableNames):\n",
    "        filen = pathname_pattern + f +'.'+out_ext_pattern\n",
    "        if eval(f).dtypes == 'int64':vars()[f] = eval(f).astype('int32')\n",
    "        if eval(f).dtypes == 'float64':vars()[f] = eval(f).astype('float32')\n",
    "        vars()[f].to_feather(filen)"
   ]
  },
  {
   "cell_type": "code",
   "execution_count": 175,
   "metadata": {
    "ExecuteTime": {
     "end_time": "2018-08-23T01:37:44.683679Z",
     "start_time": "2018-08-23T01:37:44.628954Z"
    },
    "collapsed": true
   },
   "outputs": [],
   "source": [
    "class feather(object):\n",
    "\n",
    "    def __init__(self,in_ext_pattern,out_ext_pattern\n",
    "                 ,pathname_pattern):\n",
    "        self.in_ext_pattern = in_ext_pattern\n",
    "        self.out_ext_pattern = out_ext_pattern\n",
    "        self.pathname_pattern = pathname_pattern\n",
    "        self.feather_names = None\n",
    "        self.tableNames = None\n",
    "    \n",
    "    def read(self):\n",
    "        logger.debug(\"******* Read feather\")\n",
    "        self.feather_names,self.tableNames = \\\n",
    "            find_input_files_names(self.in_ext_pattern\n",
    "                                   ,self.out_ext_pattern\n",
    "                                   ,self.pathname_pattern)\n",
    "            \n",
    "        wh_file_in(self.tableNames\n",
    "                    ,self.in_ext_pattern\n",
    "                    ,self.pathname_pattern)\n",
    "        \n",
    "        return(self)\n",
    "    \n",
    "    def write(self):\n",
    "        logger.debug(\"******* Write feather\")\n",
    "        feather_file_out(self.tableNames\n",
    "                         ,self.in_ext_pattern\n",
    "                         ,self.out_ext_pattern\n",
    "                         ,self.pathname_pattern)\n",
    "        return(self)   \n"
   ]
  },
  {
   "cell_type": "code",
   "execution_count": 176,
   "metadata": {
    "ExecuteTime": {
     "end_time": "2018-08-23T01:37:49.184188Z",
     "start_time": "2018-08-23T01:37:49.132631Z"
    },
    "collapsed": true
   },
   "outputs": [],
   "source": [
    "fc = feather(in_ext_pattern,out_ext_pattern,pathname_pattern)"
   ]
  },
  {
   "cell_type": "code",
   "execution_count": 177,
   "metadata": {
    "ExecuteTime": {
     "end_time": "2018-08-23T01:37:52.455522Z",
     "start_time": "2018-08-23T01:37:52.396991Z"
    }
   },
   "outputs": [
    {
     "name": "stderr",
     "output_type": "stream",
     "text": [
      "0it [00:00, ?it/s]\n",
      "0it [00:00, ?it/s]\n"
     ]
    },
    {
     "data": {
      "text/plain": [
       "<__main__.feather at 0x12cf63c18>"
      ]
     },
     "execution_count": 177,
     "metadata": {},
     "output_type": "execute_result"
    }
   ],
   "source": [
    "fc.read().write()"
   ]
  },
  {
   "cell_type": "markdown",
   "metadata": {},
   "source": [
    "# Plot Testing of Scalers"
   ]
  },
  {
   "cell_type": "markdown",
   "metadata": {},
   "source": [
    "## Plot_Gaussian_step"
   ]
  },
  {
   "cell_type": "code",
   "execution_count": 44,
   "metadata": {
    "ExecuteTime": {
     "end_time": "2018-08-21T21:35:55.253964Z",
     "start_time": "2018-08-21T21:35:55.154536Z"
    }
   },
   "outputs": [
    {
     "name": "stdout",
     "output_type": "stream",
     "text": [
      "2018-08-21 17:35:55 steppy >>> initializing Step Plot_Gaussian_Steppy_Scaler_BoxCoxScaler...\n",
      "2018-08-21 17:35:55 steppy >>> initializing experiment directories under ../input/models/tmp\n",
      "2018-08-21 17:35:55 steppy >>> done: initializing experiment directories\n",
      "2018-08-21 17:35:55 steppy >>> Step Plot_Gaussian_Steppy_Scaler_BoxCoxScaler initialized\n",
      "2018-08-21 17:35:55 steppy >>> initializing Step Plot_Gaussian_Steppy_Scaler_LambertScaler...\n",
      "2018-08-21 17:35:55 steppy >>> initializing experiment directories under ../input/models/tmp\n",
      "2018-08-21 17:35:55 steppy >>> done: initializing experiment directories\n",
      "2018-08-21 17:35:55 steppy >>> Step Plot_Gaussian_Steppy_Scaler_LambertScaler initialized\n",
      "2018-08-21 17:35:55 steppy >>> initializing Step Plot_Gaussian_Steppy_Scaler_StandardScaler...\n",
      "2018-08-21 17:35:55 steppy >>> initializing experiment directories under ../input/models/tmp\n",
      "2018-08-21 17:35:55 steppy >>> done: initializing experiment directories\n",
      "2018-08-21 17:35:55 steppy >>> Step Plot_Gaussian_Steppy_Scaler_StandardScaler initialized\n",
      "2018-08-21 17:35:55 steppy >>> initializing Step Plot_Gaussian_Steppy_Scaler_MinMaxScaler...\n",
      "2018-08-21 17:35:55 steppy >>> initializing experiment directories under ../input/models/tmp\n",
      "2018-08-21 17:35:55 steppy >>> done: initializing experiment directories\n",
      "2018-08-21 17:35:55 steppy >>> Step Plot_Gaussian_Steppy_Scaler_MinMaxScaler initialized\n"
     ]
    }
   ],
   "source": [
    "#color_list = list(mcolors.CSS4_COLORS.keys())[51:100]\n",
    "Plot_Gaussian_step \\\n",
    "    = [Step(name='Plot_Gaussian_{}'.format(astep.name),\n",
    "           transformer=Plot_Distribution_c(label=astep.name[14:]),\n",
    "           input_steps=[astep], \n",
    "           input_data=['input'],\n",
    "            adapter=Adapter({\n",
    "                   'X_o': E('input','features_o'),\n",
    "                   'X': E(astep.name,'X')\n",
    "            }),\n",
    "            experiment_directory=EXPERIMENT_DIR,\n",
    "           is_trainable=True,\n",
    "           force_fitting=True)\n",
    "            for nth, astep in enumerate(list(Scale_steps))]\n",
    "\n"
   ]
  },
  {
   "cell_type": "markdown",
   "metadata": {
    "heading_collapsed": true
   },
   "source": [
    "# References"
   ]
  },
  {
   "cell_type": "markdown",
   "metadata": {
    "collapsed": true,
    "hidden": true
   },
   "source": []
  },
  {
   "cell_type": "markdown",
   "metadata": {
    "collapsed": true,
    "hidden": true
   },
   "source": []
  },
  {
   "cell_type": "markdown",
   "metadata": {
    "collapsed": true,
    "hidden": true
   },
   "source": []
  }
 ],
 "metadata": {
  "hide_input": false,
  "kernelspec": {
   "display_name": "Python 3",
   "language": "python",
   "name": "python3"
  },
  "language_info": {
   "codemirror_mode": {
    "name": "ipython",
    "version": 3
   },
   "file_extension": ".py",
   "mimetype": "text/x-python",
   "name": "python",
   "nbconvert_exporter": "python",
   "pygments_lexer": "ipython3",
   "version": "3.6.5"
  },
  "toc": {
   "colors": {
    "hover_highlight": "#DAA520",
    "running_highlight": "#FF0000",
    "selected_highlight": "#FFD700"
   },
   "moveMenuLeft": true,
   "nav_menu": {
    "height": "208px",
    "width": "252px"
   },
   "navigate_menu": true,
   "number_sections": true,
   "sideBar": true,
   "threshold": 4,
   "toc_cell": false,
   "toc_position": {
    "height": "817px",
    "left": "0px",
    "right": "832.1331787109375px",
    "top": "128.99456787109375px",
    "width": "167px"
   },
   "toc_section_display": "block",
   "toc_window_display": true,
   "widenNotebook": false
  }
 },
 "nbformat": 4,
 "nbformat_minor": 2
}
