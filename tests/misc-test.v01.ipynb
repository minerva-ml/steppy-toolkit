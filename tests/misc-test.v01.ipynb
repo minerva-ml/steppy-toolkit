{
 "cells": [
  {
   "cell_type": "markdown",
   "metadata": {},
   "source": [
    "# misc-test.v01\n",
    "Test\n",
    "1. toDataFame\n",
    "1. toDateParts"
   ]
  },
  {
   "cell_type": "markdown",
   "metadata": {
    "heading_collapsed": true
   },
   "source": [
    "## General"
   ]
  },
  {
   "cell_type": "code",
   "execution_count": 1,
   "metadata": {
    "ExecuteTime": {
     "end_time": "2018-09-08T00:04:33.980216Z",
     "start_time": "2018-09-08T00:04:33.967106Z"
    },
    "hidden": true
   },
   "outputs": [],
   "source": [
    "__author__ = 'BruceCottman'\n",
    "__author__"
   ]
  },
  {
   "cell_type": "code",
   "execution_count": 2,
   "metadata": {
    "ExecuteTime": {
     "end_time": "2018-09-08T00:04:36.098254Z",
     "start_time": "2018-09-08T00:04:33.983066Z"
    },
    "hidden": true
   },
   "outputs": [
    {
     "name": "stdout",
     "output_type": "stream",
     "text": [
      "# packages in environment at /Users/brucecottman/anaconda3/envs/steppy:\r\n",
      "#\r\n",
      "# Name                    Version                   Build  Channel\r\n",
      "_ipyw_jlab_nb_ext_conf    0.1.0            py36h2fc01ae_0  \r\n",
      "alabaster                 0.7.10           py36h174008c_0  \r\n",
      "anaconda                  5.2.0                    py36_3  \r\n",
      "anaconda-client           1.6.14                   py36_0  \r\n",
      "anaconda-navigator        1.8.7                    py36_0  \r\n",
      "anaconda-project          0.8.2            py36h9ee5d53_0  \r\n",
      "appnope                   0.1.0            py36hf537a9a_0  \r\n",
      "appscript                 1.0.1            py36h9e71e49_1  \r\n",
      "asn1crypto                0.24.0                   py36_0  \r\n",
      "astroid                   1.6.3                    py36_0  \r\n",
      "astropy                   3.0.2            py36h917ab60_1  \r\n",
      "atomicwrites              1.2.1                     <pip>\r\n",
      "attrs                     18.1.0                   py36_0  \r\n",
      "Augmentor                 0.2.2                     <pip>\r\n",
      "babel                     2.5.3                    py36_0  \r\n",
      "backcall                  0.1.0                    py36_0  \r\n",
      "backports                 1.0              py36ha3c1827_1  \r\n",
      "backports.shutil_get_terminal_size 1.0.0            py36hd7a2ee4_2  \r\n",
      "bcolz                     1.2.1                     <pip>\r\n",
      "beautifulsoup4            4.6.0            py36h72d3c9f_1  \r\n",
      "bitarray                  0.8.1            py36h1de35cc_1  \r\n",
      "bkcharts                  0.2              py36h073222e_0  \r\n",
      "blas                      1.0                         mkl  \r\n",
      "blaze                     0.11.3           py36h02e7a37_0  \r\n",
      "bleach                    2.1.3                    py36_0  \r\n",
      "blosc                     1.14.3               hd9629dc_0  \r\n",
      "bokeh                     0.12.16                  py36_0  \r\n",
      "boto                      2.48.0           py36hdbc59ac_1  \r\n",
      "bottleneck                1.2.1            py36hbd380ad_0  \r\n",
      "brewer2mpl                1.4.1                     <pip>\r\n",
      "bzip2                     1.0.6                h1de35cc_5  \r\n",
      "ca-certificates           2018.03.07                    0  \r\n",
      "category-encoders         1.2.8                     <pip>\r\n",
      "certifi                   2018.4.16                py36_0  \r\n",
      "cffi                      1.11.5           py36h342bebf_0  \r\n",
      "chardet                   3.0.4            py36h96c241c_1  \r\n",
      "click                     6.7              py36hec950be_0  \r\n",
      "cloudpickle               0.5.3                    py36_0  \r\n",
      "clyent                    1.2.2            py36hae3ad88_0  \r\n",
      "colorama                  0.3.9            py36hd29a30c_0  \r\n",
      "conda-verify              2.0.0            py36he837df3_0  \r\n",
      "contextlib2               0.5.5            py36hd66e5e7_0  \r\n",
      "cryptography              2.2.2            py36h1de35cc_0  \r\n",
      "curl                      7.60.0               ha441bb4_0  \r\n",
      "cycler                    0.10.0           py36hfc81398_0  \r\n",
      "cython                    0.28.2           py36h1de35cc_0  \r\n",
      "cytoolz                   0.9.0.1          py36h1de35cc_0  \r\n",
      "dask                      0.17.5                   py36_0  \r\n",
      "dask-core                 0.17.5                   py36_0  \r\n",
      "datashape                 0.5.4            py36hfb22df8_0  \r\n",
      "dbus                      1.13.2               h760590f_1  \r\n",
      "decorator                 4.3.0                    py36_0  \r\n",
      "dfply                     0.3.3                     <pip>\r\n",
      "distributed               1.21.8                   py36_0  \r\n",
      "docutils                  0.14             py36hbfde631_0  \r\n",
      "entrypoints               0.2.3            py36hd81d71f_2  \r\n",
      "et_xmlfile                1.0.1            py36h1315bdc_0  \r\n",
      "expat                     2.2.5                hb8e80ba_0  \r\n",
      "fastcache                 1.0.2            py36h1de35cc_2  \r\n",
      "feather-format            0.4.0                     <pip>\r\n",
      "filelock                  3.0.4                    py36_0  \r\n",
      "flask                     1.0.2                    py36_1  \r\n",
      "flask-cors                3.0.4                    py36_0  \r\n",
      "freetype                  2.8                  h12048fb_1  \r\n",
      "future                    0.16.0                    <pip>\r\n",
      "get_terminal_size         1.0.0                h7520d66_0  \r\n",
      "gettext                   0.19.8.1             h15daf44_3  \r\n",
      "gevent                    1.3.0            py36h1de35cc_0  \r\n",
      "ggplot                    0.11.5                    <pip>\r\n",
      "glib                      2.56.1               h35bc53a_0  \r\n",
      "glob2                     0.6              py36h94c9186_0  \r\n",
      "gmp                       6.1.2                hb37e062_1  \r\n",
      "gmpy2                     2.0.8            py36hf9c35bd_2  \r\n",
      "graphviz                  0.9                       <pip>\r\n",
      "greenlet                  0.4.13           py36h1de35cc_0  \r\n",
      "h5py                      2.7.1            py36ha8ecd60_2  \r\n",
      "hdf5                      1.10.2               hfa1e0ec_1  \r\n",
      "heapdict                  1.0.0                    py36_2  \r\n",
      "html5lib                  1.0.1            py36h2f9c1c0_0  \r\n",
      "icu                       58.2                 h4b95b61_1  \r\n",
      "idna                      2.6              py36h8628d0a_1  \r\n",
      "imageio                   2.3.0                    py36_0  \r\n",
      "imagesize                 1.0.0                    py36_0  \r\n",
      "intel-openmp              2018.0.0                      8  \r\n",
      "ipykernel                 4.8.2                    py36_0  \r\n",
      "ipython                   6.4.0                    py36_0  \r\n",
      "ipython_genutils          0.2.0            py36h241746c_0  \r\n",
      "ipywidgets                7.2.1                    py36_0  \r\n",
      "isort                     4.3.4                    py36_0  \r\n",
      "itsdangerous              0.24             py36h49fbb8d_1  \r\n",
      "jbig                      2.1                  h4d881f8_0  \r\n",
      "jdcal                     1.4                      py36_0  \r\n",
      "jedi                      0.12.0                   py36_1  \r\n",
      "jinja2                    2.10             py36hd36f9c5_0  \r\n",
      "joblib                    0.12.4                    <pip>\r\n",
      "jpeg                      9b                   he5867d9_2  \r\n",
      "jsonschema                2.6.0            py36hb385e00_0  \r\n",
      "jupyter                   1.0.0                    py36_4  \r\n",
      "jupyter-contrib-core      0.3.3                     <pip>\r\n",
      "jupyter-nbextensions-configurator 0.4.0                     <pip>\r\n",
      "jupyter_client            5.2.3                    py36_0  \r\n",
      "jupyter_console           5.2.0            py36hccf5b1c_1  \r\n",
      "jupyter_core              4.4.0            py36h79cf704_0  \r\n",
      "jupyterlab                0.32.1                   py36_0  \r\n",
      "jupyterlab_launcher       0.10.5                   py36_0  \r\n",
      "kiwisolver                1.0.1            py36h792292d_0  \r\n",
      "lazy-object-proxy         1.3.1            py36h2fbbe47_0  \r\n",
      "libcurl                   7.60.0               hf30b1f0_0  \r\n",
      "libcxx                    4.0.1                h579ed51_0  \r\n",
      "libcxxabi                 4.0.1                hebd6815_0  \r\n",
      "libedit                   3.1.20170329         hb402a30_2  \r\n",
      "libffi                    3.2.1                h475c297_4  \r\n",
      "libgfortran               3.0.1                h93005f0_2  \r\n",
      "libiconv                  1.15                 hdd342a3_7  \r\n",
      "libpng                    1.6.34               he12f830_0  \r\n",
      "libsodium                 1.0.16               h3efe00b_0  \r\n",
      "libssh2                   1.8.0                h322a93b_4  \r\n",
      "libtiff                   4.0.9                hcb84e12_1  \r\n",
      "libxml2                   2.9.8                hab757c2_1  \r\n",
      "libxslt                   1.1.32               hb819dd2_0  \r\n",
      "lightgbm                  2.1.2                     <pip>\r\n",
      "llvmlite                  0.23.1           py36hc454e04_0  \r\n",
      "locket                    0.2.0            py36hca03003_1  \r\n",
      "lxml                      4.2.1            py36h7166777_0  \r\n",
      "lzo                       2.10                 h362108e_2  \r\n",
      "markupsafe                1.0              py36h3a1e703_1  \r\n",
      "matplotlib                2.2.2            py36ha7267d0_0  \r\n",
      "mccabe                    0.6.1            py36hdaeb55d_0  \r\n",
      "mistune                   0.8.3            py36h1de35cc_1  \r\n",
      "mkl                       2018.0.2                      1  \r\n",
      "mkl-service               1.1.2            py36h7ea6df4_4  \r\n",
      "mkl_fft                   1.0.1            py36h917ab60_0  \r\n",
      "mkl_random                1.0.1            py36h78cc56f_0  \r\n",
      "more-itertools            4.1.0                    py36_0  \r\n",
      "mpc                       1.0.3                h7a72875_5  \r\n",
      "mpfr                      3.1.5                h711e7fd_2  \r\n",
      "mpmath                    1.0.0            py36hf1b8295_2  \r\n",
      "msgpack                   0.5.6                     <pip>\r\n",
      "msgpack-python            0.5.6            py36h04f5b5a_0  \r\n",
      "multipledispatch          0.5.0                    py36_0  \r\n",
      "navigator-updater         0.2.1                    py36_0  \r\n",
      "nbconvert                 5.3.1            py36h810822e_0  \r\n",
      "nbformat                  4.4.0            py36h827af21_0  \r\n",
      "ncurses                   6.1                  h0a44026_0  \r\n",
      "networkx                  2.1                      py36_0  \r\n",
      "nltk                      3.3.0                    py36_0  \r\n",
      "nose                      1.3.7            py36h73fae2b_2  \r\n",
      "notebook                  5.5.0                    py36_0  \r\n",
      "numba                     0.38.0           py36h1702cab_0  \r\n",
      "numexpr                   2.6.5            py36h057f876_0  \r\n",
      "numpy                     1.14.3           py36h9bb19eb_1  \r\n",
      "numpy-base                1.14.3           py36h479e554_1  \r\n",
      "numpydoc                  0.8.0                    py36_0  \r\n",
      "odo                       0.5.1            py36hc1af34a_0  \r\n",
      "olefile                   0.45.1                   py36_0  \r\n",
      "openpyxl                  2.5.3                    py36_0  \r\n",
      "openssl                   1.0.2o               h26aff7b_0  \r\n",
      "packaging                 17.1                     py36_0  \r\n",
      "pandas                    0.23.0           py36h1702cab_0  \r\n",
      "pandas-summary            0.0.5                     <pip>\r\n",
      "pandoc                    1.19.2.1             ha5e8f32_1  \r\n",
      "pandocfilters             1.4.2            py36h3b0b094_1  \r\n",
      "parso                     0.2.0                    py36_0  \r\n",
      "partd                     0.3.8            py36hf5c4cb8_0  \r\n",
      "path.py                   11.0.1                   py36_0  \r\n",
      "pathlib2                  2.3.2                    py36_0  \r\n",
      "patsy                     0.5.0                    py36_0  \r\n",
      "pcre                      8.42                 h378b8a2_0  \r\n",
      "pep8                      1.7.1                    py36_0  \r\n",
      "pexpect                   4.5.0                    py36_0  \r\n",
      "pickleshare               0.7.4            py36hf512f8e_0  \r\n",
      "pillow                    5.1.0            py36hfcce615_0  \r\n",
      "pip                       10.0.1                   py36_0  \r\n",
      "pip                       18.0                      <pip>\r\n",
      "pkginfo                   1.4.2                    py36_1  \r\n",
      "plotly                    3.2.0                     <pip>\r\n",
      "pluggy                    0.7.1                     <pip>\r\n",
      "pluggy                    0.6.0            py36hb1d0581_0  \r\n",
      "ply                       3.11                     py36_0  \r\n",
      "probscale                 0.2.3                     <pip>\r\n",
      "prompt_toolkit            1.0.15           py36haeda067_0  \r\n",
      "psutil                    5.4.5            py36h1de35cc_0  \r\n",
      "ptyprocess                0.5.2            py36he6521c3_0  \r\n",
      "py                        1.5.3                    py36_0  \r\n",
      "pyarrow                   0.10.0                    <pip>\r\n",
      "pycodestyle               2.4.0                    py36_0  \r\n",
      "pycosat                   0.6.3            py36hee92d8f_0  \r\n",
      "pycparser                 2.18             py36h724b2fc_1  \r\n",
      "pycrypto                  2.6.1            py36h1de35cc_8  \r\n",
      "pycurl                    7.43.0.1         py36hdbc3d79_0  \r\n",
      "pydot-ng                  1.0.0                     <pip>\r\n",
      "pyflakes                  1.6.0            py36hea45e83_0  \r\n",
      "pygments                  2.2.0            py36h240cd3f_0  \r\n",
      "pylint                    1.8.4                    py36_0  \r\n",
      "pyodbc                    4.0.23           py36h0a44026_0  \r\n",
      "pyopenssl                 18.0.0                   py36_0  \r\n",
      "pyparsing                 2.2.0            py36hb281f35_0  \r\n",
      "pyqt                      5.9.2            py36h11d3b92_0  \r\n",
      "pysocks                   1.6.8                    py36_0  \r\n",
      "pytables                  3.4.3            py36h5ca999c_2  \r\n",
      "pytest                    3.8.0                     <pip>\r\n",
      "pytest                    3.5.1                    py36_0  \r\n",
      "pytest-arraydiff          0.2                      py36_0  \r\n",
      "pytest-astropy            0.3.0                    py36_0  \r\n",
      "pytest-doctestplus        0.1.3                    py36_0  \r\n",
      "pytest-openfiles          0.3.0                    py36_0  \r\n",
      "pytest-remotedata         0.2.1                    py36_0  \r\n",
      "python                    3.6.5                hc167b69_1  \r\n",
      "python-dateutil           2.7.3                    py36_0  \r\n",
      "python.app                2                        py36_8  \r\n",
      "pytz                      2018.4                   py36_0  \r\n",
      "pywavelets                0.5.2            py36h2710a04_0  \r\n",
      "pyyaml                    3.12             py36h2ba1e63_1  \r\n",
      "pyzmq                     17.0.0           py36h1de35cc_1  \r\n",
      "qt                        5.9.5                h02808f3_0  \r\n",
      "qtawesome                 0.4.4            py36h468c6fb_0  \r\n",
      "qtconsole                 4.3.1            py36hd96c0ff_0  \r\n",
      "qtpy                      1.4.1                    py36_0  \r\n",
      "readline                  7.0                  hc1231fa_4  \r\n",
      "requests                  2.18.4           py36h4516966_1  \r\n",
      "retrying                  1.3.3                     <pip>\r\n",
      "rope                      0.10.7           py36h68959ac_0  \r\n",
      "ruamel_yaml               0.15.35          py36h1de35cc_1  \r\n",
      "scikit-image              0.13.1           py36h1de35cc_1  \r\n",
      "scikit-learn              0.19.1           py36hffbff8c_0  \r\n",
      "scipy                     1.1.0            py36hcaad992_0  \r\n",
      "seaborn                   0.8.1            py36h595ecd9_0  \r\n",
      "send2trash                1.5.0                    py36_0  \r\n",
      "setuptools                40.2.0                    <pip>\r\n",
      "setuptools                39.1.0                   py36_0  \r\n",
      "simplegeneric             0.8.1                    py36_2  \r\n",
      "singledispatch            3.4.0.3          py36hf20db9d_0  \r\n",
      "sip                       4.19.8           py36h0a44026_0  \r\n",
      "six                       1.11.0           py36h0e22d5e_1  \r\n",
      "sklearn-pandas            1.7.0                     <pip>\r\n",
      "snappy                    1.1.7                he62c110_3  \r\n",
      "snowballstemmer           1.2.1            py36h6c7b616_0  \r\n",
      "sortedcollections         0.6.1                    py36_0  \r\n",
      "sortedcontainers          1.5.10                   py36_0  \r\n",
      "sphinx                    1.7.4                    py36_0  \r\n",
      "sphinxcontrib             1.0              py36h9364dc8_1  \r\n",
      "sphinxcontrib-websupport  1.0.1            py36h92f4a7a_1  \r\n",
      "spyder                    3.2.8                    py36_0  \r\n",
      "sqlalchemy                1.2.7            py36hb402a30_0  \r\n",
      "sqlite                    3.23.1               hf1716c9_0  \r\n",
      "statsmodels               0.8.0                     <pip>\r\n",
      "statsmodels               0.9.0            py36h917ab60_0  \r\n",
      "steppy                    0.1.6                     <pip>\r\n",
      "sympy                     1.1.1            py36h7f3cf04_0  \r\n",
      "tblib                     1.3.2            py36hda67792_0  \r\n",
      "terminado                 0.8.1                    py36_1  \r\n",
      "testpath                  0.3.1            py36h625a49b_0  \r\n",
      "tk                        8.6.7                h35a86e2_3  \r\n",
      "toolz                     0.9.0                    py36_0  \r\n",
      "tornado                   5.0.2                    py36_0  \r\n",
      "tqdm                      4.25.0                    <pip>\r\n",
      "traitlets                 4.3.2            py36h65bd3ce_0  \r\n",
      "typing                    3.6.4                    py36_0  \r\n",
      "unicodecsv                0.14.1           py36he531d66_0  \r\n",
      "unixodbc                  2.3.6                h3efe00b_0  \r\n",
      "urllib3                   1.22             py36h68b9469_0  \r\n",
      "wcwidth                   0.1.7            py36h8c6ec74_0  \r\n",
      "webencodings              0.5.1            py36h3b9701d_1  \r\n",
      "werkzeug                  0.14.1                   py36_0  \r\n",
      "wheel                     0.31.1                   py36_0  \r\n",
      "widgetsnbextension        3.2.1                    py36_0  \r\n",
      "wrapt                     1.10.11          py36hc29e774_0  \r\n",
      "xgboost                   0.80                      <pip>\r\n",
      "xlrd                      1.1.0            py36h336f4a2_1  \r\n",
      "xlsxwriter                1.0.4                    py36_0  \r\n",
      "xlwings                   0.11.8                   py36_0  \r\n",
      "xlwt                      1.2.0            py36h5ad1178_0  \r\n",
      "xz                        5.2.4                h1de35cc_4  \r\n",
      "yaml                      0.1.7                hc338f04_2  \r\n",
      "zeromq                    4.2.5                h378b8a2_0  \r\n",
      "zict                      0.1.3            py36h71da714_0  \r\n",
      "zlib                      1.2.11               hf3cbc9b_2  \r\n"
     ]
    }
   ],
   "source": [
    "!conda list"
   ]
  },
  {
   "cell_type": "markdown",
   "metadata": {},
   "source": [
    "## imports"
   ]
  },
  {
   "cell_type": "code",
   "execution_count": 3,
   "metadata": {
    "ExecuteTime": {
     "end_time": "2018-09-08T00:04:36.106904Z",
     "start_time": "2018-09-08T00:04:36.101225Z"
    }
   },
   "outputs": [
    {
     "data": {
      "text/plain": [
       "['',\n",
       " '/Users/brucecottman/anaconda3/envs/steppy/lib/python36.zip',\n",
       " '/Users/brucecottman/anaconda3/envs/steppy/lib/python3.6',\n",
       " '/Users/brucecottman/anaconda3/envs/steppy/lib/python3.6/lib-dynload',\n",
       " '/Users/brucecottman/.local/lib/python3.6/site-packages',\n",
       " '/Users/brucecottman/anaconda3/envs/steppy/lib/python3.6/site-packages',\n",
       " '/Users/brucecottman/anaconda3/envs/steppy/lib/python3.6/site-packages/aeosa',\n",
       " '/Users/brucecottman/anaconda3/envs/steppy/lib/python3.6/site-packages/pip-18.0-py3.6.egg',\n",
       " '/Users/brucecottman/anaconda3/envs/steppy/lib/python3.6/site-packages/IPython/extensions',\n",
       " '/Users/brucecottman/.ipython',\n",
       " '/Users/brucecottman/Documents/PROJECTS/steppy-toolkit']"
      ]
     },
     "execution_count": 3,
     "metadata": {},
     "output_type": "execute_result"
    }
   ],
   "source": [
    "import os,sys\n",
    "sys.path.append(os.path.abspath('../'))\n",
    "sys.path"
   ]
  },
  {
   "cell_type": "code",
   "execution_count": 4,
   "metadata": {
    "ExecuteTime": {
     "end_time": "2018-09-08T00:04:36.586233Z",
     "start_time": "2018-09-08T00:04:36.109639Z"
    }
   },
   "outputs": [],
   "source": [
    "import pandas as pd\n",
    "import copy, random\n",
    "import numpy as np\n",
    "from numba import jit"
   ]
  },
  {
   "cell_type": "code",
   "execution_count": 5,
   "metadata": {
    "ExecuteTime": {
     "end_time": "2018-09-08T00:04:36.722151Z",
     "start_time": "2018-09-08T00:04:36.588667Z"
    }
   },
   "outputs": [],
   "source": [
    "import steppy\n",
    "from steppy.base import Step, BaseTransformer, make_transformer\n",
    "from steppy.adapter import Adapter, E\n",
    "from steppy.utils import get_logger\n",
    "import joblib"
   ]
  },
  {
   "cell_type": "code",
   "execution_count": 6,
   "metadata": {
    "ExecuteTime": {
     "end_time": "2018-09-08T00:04:36.730643Z",
     "start_time": "2018-09-08T00:04:36.725032Z"
    }
   },
   "outputs": [],
   "source": [
    "from toolkit.preprocessing.S_toDataFrame import S_toDataFrame"
   ]
  },
  {
   "cell_type": "code",
   "execution_count": 7,
   "metadata": {
    "ExecuteTime": {
     "end_time": "2018-09-08T00:04:36.735355Z",
     "start_time": "2018-09-08T00:04:36.732791Z"
    }
   },
   "outputs": [],
   "source": [
    "#from S_misc import S_toDataFrame"
   ]
  },
  {
   "cell_type": "markdown",
   "metadata": {},
   "source": [
    "\n",
    "Level\tNumeric value\n",
    "-   CRITICAL\t50\n",
    "-    ERROR\t40\n",
    "-    WARNING\t30\n",
    "-    INFO\t20\n",
    "-    DEBUG\t10\n",
    "-    NOTSET\t0"
   ]
  },
  {
   "cell_type": "code",
   "execution_count": 8,
   "metadata": {
    "ExecuteTime": {
     "end_time": "2018-09-08T00:04:38.827026Z",
     "start_time": "2018-09-08T00:04:36.737788Z"
    }
   },
   "outputs": [
    {
     "name": "stdout",
     "output_type": "stream",
     "text": [
      "# packages in environment at /Users/brucecottman/anaconda3/envs/steppy:\r\n",
      "#\r\n",
      "# Name                    Version                   Build  Channel\r\n",
      "_ipyw_jlab_nb_ext_conf    0.1.0            py36h2fc01ae_0  \r\n",
      "alabaster                 0.7.10           py36h174008c_0  \r\n",
      "anaconda                  5.2.0                    py36_3  \r\n",
      "anaconda-client           1.6.14                   py36_0  \r\n",
      "anaconda-navigator        1.8.7                    py36_0  \r\n",
      "anaconda-project          0.8.2            py36h9ee5d53_0  \r\n",
      "appnope                   0.1.0            py36hf537a9a_0  \r\n",
      "appscript                 1.0.1            py36h9e71e49_1  \r\n",
      "asn1crypto                0.24.0                   py36_0  \r\n",
      "astroid                   1.6.3                    py36_0  \r\n",
      "astropy                   3.0.2            py36h917ab60_1  \r\n",
      "atomicwrites              1.2.1                     <pip>\r\n",
      "attrs                     18.1.0                   py36_0  \r\n",
      "Augmentor                 0.2.2                     <pip>\r\n",
      "babel                     2.5.3                    py36_0  \r\n",
      "backcall                  0.1.0                    py36_0  \r\n",
      "backports                 1.0              py36ha3c1827_1  \r\n",
      "backports.shutil_get_terminal_size 1.0.0            py36hd7a2ee4_2  \r\n",
      "bcolz                     1.2.1                     <pip>\r\n",
      "beautifulsoup4            4.6.0            py36h72d3c9f_1  \r\n",
      "bitarray                  0.8.1            py36h1de35cc_1  \r\n",
      "bkcharts                  0.2              py36h073222e_0  \r\n",
      "blas                      1.0                         mkl  \r\n",
      "blaze                     0.11.3           py36h02e7a37_0  \r\n",
      "bleach                    2.1.3                    py36_0  \r\n",
      "blosc                     1.14.3               hd9629dc_0  \r\n",
      "bokeh                     0.12.16                  py36_0  \r\n",
      "boto                      2.48.0           py36hdbc59ac_1  \r\n",
      "bottleneck                1.2.1            py36hbd380ad_0  \r\n",
      "brewer2mpl                1.4.1                     <pip>\r\n",
      "bzip2                     1.0.6                h1de35cc_5  \r\n",
      "ca-certificates           2018.03.07                    0  \r\n",
      "category-encoders         1.2.8                     <pip>\r\n",
      "certifi                   2018.4.16                py36_0  \r\n",
      "cffi                      1.11.5           py36h342bebf_0  \r\n",
      "chardet                   3.0.4            py36h96c241c_1  \r\n",
      "click                     6.7              py36hec950be_0  \r\n",
      "cloudpickle               0.5.3                    py36_0  \r\n",
      "clyent                    1.2.2            py36hae3ad88_0  \r\n",
      "colorama                  0.3.9            py36hd29a30c_0  \r\n",
      "conda-verify              2.0.0            py36he837df3_0  \r\n",
      "contextlib2               0.5.5            py36hd66e5e7_0  \r\n",
      "cryptography              2.2.2            py36h1de35cc_0  \r\n",
      "curl                      7.60.0               ha441bb4_0  \r\n",
      "cycler                    0.10.0           py36hfc81398_0  \r\n",
      "cython                    0.28.2           py36h1de35cc_0  \r\n",
      "cytoolz                   0.9.0.1          py36h1de35cc_0  \r\n",
      "dask                      0.17.5                   py36_0  \r\n",
      "dask-core                 0.17.5                   py36_0  \r\n",
      "datashape                 0.5.4            py36hfb22df8_0  \r\n",
      "dbus                      1.13.2               h760590f_1  \r\n",
      "decorator                 4.3.0                    py36_0  \r\n",
      "dfply                     0.3.3                     <pip>\r\n",
      "distributed               1.21.8                   py36_0  \r\n",
      "docutils                  0.14             py36hbfde631_0  \r\n",
      "entrypoints               0.2.3            py36hd81d71f_2  \r\n",
      "et_xmlfile                1.0.1            py36h1315bdc_0  \r\n",
      "expat                     2.2.5                hb8e80ba_0  \r\n",
      "fastcache                 1.0.2            py36h1de35cc_2  \r\n",
      "feather-format            0.4.0                     <pip>\r\n",
      "filelock                  3.0.4                    py36_0  \r\n",
      "flask                     1.0.2                    py36_1  \r\n",
      "flask-cors                3.0.4                    py36_0  \r\n",
      "freetype                  2.8                  h12048fb_1  \r\n",
      "future                    0.16.0                    <pip>\r\n",
      "get_terminal_size         1.0.0                h7520d66_0  \r\n",
      "gettext                   0.19.8.1             h15daf44_3  \r\n",
      "gevent                    1.3.0            py36h1de35cc_0  \r\n",
      "ggplot                    0.11.5                    <pip>\r\n",
      "glib                      2.56.1               h35bc53a_0  \r\n",
      "glob2                     0.6              py36h94c9186_0  \r\n",
      "gmp                       6.1.2                hb37e062_1  \r\n",
      "gmpy2                     2.0.8            py36hf9c35bd_2  \r\n",
      "graphviz                  0.9                       <pip>\r\n",
      "greenlet                  0.4.13           py36h1de35cc_0  \r\n",
      "h5py                      2.7.1            py36ha8ecd60_2  \r\n",
      "hdf5                      1.10.2               hfa1e0ec_1  \r\n",
      "heapdict                  1.0.0                    py36_2  \r\n",
      "html5lib                  1.0.1            py36h2f9c1c0_0  \r\n",
      "icu                       58.2                 h4b95b61_1  \r\n",
      "idna                      2.6              py36h8628d0a_1  \r\n",
      "imageio                   2.3.0                    py36_0  \r\n",
      "imagesize                 1.0.0                    py36_0  \r\n",
      "intel-openmp              2018.0.0                      8  \r\n",
      "ipykernel                 4.8.2                    py36_0  \r\n",
      "ipython                   6.4.0                    py36_0  \r\n",
      "ipython_genutils          0.2.0            py36h241746c_0  \r\n",
      "ipywidgets                7.2.1                    py36_0  \r\n",
      "isort                     4.3.4                    py36_0  \r\n",
      "itsdangerous              0.24             py36h49fbb8d_1  \r\n",
      "jbig                      2.1                  h4d881f8_0  \r\n",
      "jdcal                     1.4                      py36_0  \r\n",
      "jedi                      0.12.0                   py36_1  \r\n",
      "jinja2                    2.10             py36hd36f9c5_0  \r\n",
      "joblib                    0.12.4                    <pip>\r\n",
      "jpeg                      9b                   he5867d9_2  \r\n",
      "jsonschema                2.6.0            py36hb385e00_0  \r\n",
      "jupyter                   1.0.0                    py36_4  \r\n",
      "jupyter-contrib-core      0.3.3                     <pip>\r\n",
      "jupyter-nbextensions-configurator 0.4.0                     <pip>\r\n",
      "jupyter_client            5.2.3                    py36_0  \r\n",
      "jupyter_console           5.2.0            py36hccf5b1c_1  \r\n",
      "jupyter_core              4.4.0            py36h79cf704_0  \r\n",
      "jupyterlab                0.32.1                   py36_0  \r\n",
      "jupyterlab_launcher       0.10.5                   py36_0  \r\n",
      "kiwisolver                1.0.1            py36h792292d_0  \r\n",
      "lazy-object-proxy         1.3.1            py36h2fbbe47_0  \r\n",
      "libcurl                   7.60.0               hf30b1f0_0  \r\n",
      "libcxx                    4.0.1                h579ed51_0  \r\n",
      "libcxxabi                 4.0.1                hebd6815_0  \r\n",
      "libedit                   3.1.20170329         hb402a30_2  \r\n",
      "libffi                    3.2.1                h475c297_4  \r\n",
      "libgfortran               3.0.1                h93005f0_2  \r\n",
      "libiconv                  1.15                 hdd342a3_7  \r\n",
      "libpng                    1.6.34               he12f830_0  \r\n",
      "libsodium                 1.0.16               h3efe00b_0  \r\n",
      "libssh2                   1.8.0                h322a93b_4  \r\n",
      "libtiff                   4.0.9                hcb84e12_1  \r\n",
      "libxml2                   2.9.8                hab757c2_1  \r\n",
      "libxslt                   1.1.32               hb819dd2_0  \r\n",
      "lightgbm                  2.1.2                     <pip>\r\n",
      "llvmlite                  0.23.1           py36hc454e04_0  \r\n",
      "locket                    0.2.0            py36hca03003_1  \r\n",
      "lxml                      4.2.1            py36h7166777_0  \r\n",
      "lzo                       2.10                 h362108e_2  \r\n",
      "markupsafe                1.0              py36h3a1e703_1  \r\n",
      "matplotlib                2.2.2            py36ha7267d0_0  \r\n",
      "mccabe                    0.6.1            py36hdaeb55d_0  \r\n",
      "mistune                   0.8.3            py36h1de35cc_1  \r\n",
      "mkl                       2018.0.2                      1  \r\n",
      "mkl-service               1.1.2            py36h7ea6df4_4  \r\n",
      "mkl_fft                   1.0.1            py36h917ab60_0  \r\n",
      "mkl_random                1.0.1            py36h78cc56f_0  \r\n",
      "more-itertools            4.1.0                    py36_0  \r\n",
      "mpc                       1.0.3                h7a72875_5  \r\n",
      "mpfr                      3.1.5                h711e7fd_2  \r\n",
      "mpmath                    1.0.0            py36hf1b8295_2  \r\n",
      "msgpack                   0.5.6                     <pip>\r\n",
      "msgpack-python            0.5.6            py36h04f5b5a_0  \r\n",
      "multipledispatch          0.5.0                    py36_0  \r\n",
      "navigator-updater         0.2.1                    py36_0  \r\n",
      "nbconvert                 5.3.1            py36h810822e_0  \r\n",
      "nbformat                  4.4.0            py36h827af21_0  \r\n",
      "ncurses                   6.1                  h0a44026_0  \r\n",
      "networkx                  2.1                      py36_0  \r\n",
      "nltk                      3.3.0                    py36_0  \r\n",
      "nose                      1.3.7            py36h73fae2b_2  \r\n",
      "notebook                  5.5.0                    py36_0  \r\n",
      "numba                     0.38.0           py36h1702cab_0  \r\n",
      "numexpr                   2.6.5            py36h057f876_0  \r\n",
      "numpy                     1.14.3           py36h9bb19eb_1  \r\n",
      "numpy-base                1.14.3           py36h479e554_1  \r\n",
      "numpydoc                  0.8.0                    py36_0  \r\n",
      "odo                       0.5.1            py36hc1af34a_0  \r\n",
      "olefile                   0.45.1                   py36_0  \r\n",
      "openpyxl                  2.5.3                    py36_0  \r\n",
      "openssl                   1.0.2o               h26aff7b_0  \r\n",
      "packaging                 17.1                     py36_0  \r\n",
      "pandas                    0.23.0           py36h1702cab_0  \r\n",
      "pandas-summary            0.0.5                     <pip>\r\n",
      "pandoc                    1.19.2.1             ha5e8f32_1  \r\n",
      "pandocfilters             1.4.2            py36h3b0b094_1  \r\n",
      "parso                     0.2.0                    py36_0  \r\n",
      "partd                     0.3.8            py36hf5c4cb8_0  \r\n",
      "path.py                   11.0.1                   py36_0  \r\n",
      "pathlib2                  2.3.2                    py36_0  \r\n",
      "patsy                     0.5.0                    py36_0  \r\n",
      "pcre                      8.42                 h378b8a2_0  \r\n",
      "pep8                      1.7.1                    py36_0  \r\n",
      "pexpect                   4.5.0                    py36_0  \r\n",
      "pickleshare               0.7.4            py36hf512f8e_0  \r\n",
      "pillow                    5.1.0            py36hfcce615_0  \r\n",
      "pip                       18.0                      <pip>\r\n",
      "pip                       10.0.1                   py36_0  \r\n",
      "pkginfo                   1.4.2                    py36_1  \r\n",
      "plotly                    3.2.0                     <pip>\r\n",
      "pluggy                    0.7.1                     <pip>\r\n",
      "pluggy                    0.6.0            py36hb1d0581_0  \r\n",
      "ply                       3.11                     py36_0  \r\n",
      "probscale                 0.2.3                     <pip>\r\n",
      "prompt_toolkit            1.0.15           py36haeda067_0  \r\n",
      "psutil                    5.4.5            py36h1de35cc_0  \r\n",
      "ptyprocess                0.5.2            py36he6521c3_0  \r\n",
      "py                        1.5.3                    py36_0  \r\n",
      "pyarrow                   0.10.0                    <pip>\r\n",
      "pycodestyle               2.4.0                    py36_0  \r\n",
      "pycosat                   0.6.3            py36hee92d8f_0  \r\n",
      "pycparser                 2.18             py36h724b2fc_1  \r\n",
      "pycrypto                  2.6.1            py36h1de35cc_8  \r\n",
      "pycurl                    7.43.0.1         py36hdbc3d79_0  \r\n",
      "pydot-ng                  1.0.0                     <pip>\r\n",
      "pyflakes                  1.6.0            py36hea45e83_0  \r\n",
      "pygments                  2.2.0            py36h240cd3f_0  \r\n",
      "pylint                    1.8.4                    py36_0  \r\n",
      "pyodbc                    4.0.23           py36h0a44026_0  \r\n",
      "pyopenssl                 18.0.0                   py36_0  \r\n",
      "pyparsing                 2.2.0            py36hb281f35_0  \r\n",
      "pyqt                      5.9.2            py36h11d3b92_0  \r\n",
      "pysocks                   1.6.8                    py36_0  \r\n",
      "pytables                  3.4.3            py36h5ca999c_2  \r\n",
      "pytest                    3.5.1                    py36_0  \r\n",
      "pytest                    3.8.0                     <pip>\r\n",
      "pytest-arraydiff          0.2                      py36_0  \r\n",
      "pytest-astropy            0.3.0                    py36_0  \r\n",
      "pytest-doctestplus        0.1.3                    py36_0  \r\n",
      "pytest-openfiles          0.3.0                    py36_0  \r\n",
      "pytest-remotedata         0.2.1                    py36_0  \r\n",
      "python                    3.6.5                hc167b69_1  \r\n",
      "python-dateutil           2.7.3                    py36_0  \r\n",
      "python.app                2                        py36_8  \r\n",
      "pytz                      2018.4                   py36_0  \r\n",
      "pywavelets                0.5.2            py36h2710a04_0  \r\n",
      "pyyaml                    3.12             py36h2ba1e63_1  \r\n",
      "pyzmq                     17.0.0           py36h1de35cc_1  \r\n",
      "qt                        5.9.5                h02808f3_0  \r\n",
      "qtawesome                 0.4.4            py36h468c6fb_0  \r\n"
     ]
    },
    {
     "name": "stdout",
     "output_type": "stream",
     "text": [
      "qtconsole                 4.3.1            py36hd96c0ff_0  \r\n",
      "qtpy                      1.4.1                    py36_0  \r\n",
      "readline                  7.0                  hc1231fa_4  \r\n",
      "requests                  2.18.4           py36h4516966_1  \r\n",
      "retrying                  1.3.3                     <pip>\r\n",
      "rope                      0.10.7           py36h68959ac_0  \r\n",
      "ruamel_yaml               0.15.35          py36h1de35cc_1  \r\n",
      "scikit-image              0.13.1           py36h1de35cc_1  \r\n",
      "scikit-learn              0.19.1           py36hffbff8c_0  \r\n",
      "scipy                     1.1.0            py36hcaad992_0  \r\n",
      "seaborn                   0.8.1            py36h595ecd9_0  \r\n",
      "send2trash                1.5.0                    py36_0  \r\n",
      "setuptools                39.1.0                   py36_0  \r\n",
      "setuptools                40.2.0                    <pip>\r\n",
      "simplegeneric             0.8.1                    py36_2  \r\n",
      "singledispatch            3.4.0.3          py36hf20db9d_0  \r\n",
      "sip                       4.19.8           py36h0a44026_0  \r\n",
      "six                       1.11.0           py36h0e22d5e_1  \r\n",
      "sklearn-pandas            1.7.0                     <pip>\r\n",
      "snappy                    1.1.7                he62c110_3  \r\n",
      "snowballstemmer           1.2.1            py36h6c7b616_0  \r\n",
      "sortedcollections         0.6.1                    py36_0  \r\n",
      "sortedcontainers          1.5.10                   py36_0  \r\n",
      "sphinx                    1.7.4                    py36_0  \r\n",
      "sphinxcontrib             1.0              py36h9364dc8_1  \r\n",
      "sphinxcontrib-websupport  1.0.1            py36h92f4a7a_1  \r\n",
      "spyder                    3.2.8                    py36_0  \r\n",
      "sqlalchemy                1.2.7            py36hb402a30_0  \r\n",
      "sqlite                    3.23.1               hf1716c9_0  \r\n",
      "statsmodels               0.8.0                     <pip>\r\n",
      "statsmodels               0.9.0            py36h917ab60_0  \r\n",
      "steppy                    0.1.6                     <pip>\r\n",
      "sympy                     1.1.1            py36h7f3cf04_0  \r\n",
      "tblib                     1.3.2            py36hda67792_0  \r\n",
      "terminado                 0.8.1                    py36_1  \r\n",
      "testpath                  0.3.1            py36h625a49b_0  \r\n",
      "tk                        8.6.7                h35a86e2_3  \r\n",
      "toolz                     0.9.0                    py36_0  \r\n",
      "tornado                   5.0.2                    py36_0  \r\n",
      "tqdm                      4.25.0                    <pip>\r\n",
      "traitlets                 4.3.2            py36h65bd3ce_0  \r\n",
      "typing                    3.6.4                    py36_0  \r\n",
      "unicodecsv                0.14.1           py36he531d66_0  \r\n",
      "unixodbc                  2.3.6                h3efe00b_0  \r\n",
      "urllib3                   1.22             py36h68b9469_0  \r\n",
      "wcwidth                   0.1.7            py36h8c6ec74_0  \r\n",
      "webencodings              0.5.1            py36h3b9701d_1  \r\n",
      "werkzeug                  0.14.1                   py36_0  \r\n",
      "wheel                     0.31.1                   py36_0  \r\n",
      "widgetsnbextension        3.2.1                    py36_0  \r\n",
      "wrapt                     1.10.11          py36hc29e774_0  \r\n",
      "xgboost                   0.80                      <pip>\r\n",
      "xlrd                      1.1.0            py36h336f4a2_1  \r\n",
      "xlsxwriter                1.0.4                    py36_0  \r\n",
      "xlwings                   0.11.8                   py36_0  \r\n",
      "xlwt                      1.2.0            py36h5ad1178_0  \r\n",
      "xz                        5.2.4                h1de35cc_4  \r\n",
      "yaml                      0.1.7                hc338f04_2  \r\n",
      "zeromq                    4.2.5                h378b8a2_0  \r\n",
      "zict                      0.1.3            py36h71da714_0  \r\n",
      "zlib                      1.2.11               hf3cbc9b_2  \r\n"
     ]
    }
   ],
   "source": [
    "!conda list"
   ]
  },
  {
   "cell_type": "code",
   "execution_count": 9,
   "metadata": {
    "ExecuteTime": {
     "end_time": "2018-09-08T00:04:39.767889Z",
     "start_time": "2018-09-08T00:04:38.830060Z"
    }
   },
   "outputs": [],
   "source": [
    "from __future__ import print_function\n",
    "import matplotlib as mpl\n",
    "from matplotlib import pyplot as plt\n",
    "from matplotlib import cm\n",
    "import probscale\n",
    "import seaborn as sns\n",
    "from scipy.stats import probplot\n",
    "import statsmodels.api as sm\n",
    "\n",
    "%reload_ext autoreload\n",
    "%autoreload 2\n",
    "%matplotlib inline\n",
    "import matplotlib\n"
   ]
  },
  {
   "cell_type": "markdown",
   "metadata": {},
   "source": [
    "## logging"
   ]
  },
  {
   "cell_type": "code",
   "execution_count": 10,
   "metadata": {
    "ExecuteTime": {
     "end_time": "2018-09-08T00:04:39.824408Z",
     "start_time": "2018-09-08T00:04:39.770420Z"
    }
   },
   "outputs": [
    {
     "data": {
      "text/plain": [
       "10"
      ]
     },
     "execution_count": 10,
     "metadata": {},
     "output_type": "execute_result"
    }
   ],
   "source": [
    "logger = get_logger()\n",
    "logger.setLevel('DEBUG'.upper())\n",
    "logger.getEffectiveLevel()"
   ]
  },
  {
   "cell_type": "markdown",
   "metadata": {},
   "source": [
    "## Clean out EXPERIMENT_DIR"
   ]
  },
  {
   "cell_type": "code",
   "execution_count": 11,
   "metadata": {
    "ExecuteTime": {
     "end_time": "2018-09-08T00:04:40.123150Z",
     "start_time": "2018-09-08T00:04:39.826963Z"
    }
   },
   "outputs": [
    {
     "name": "stdout",
     "output_type": "stream",
     "text": [
      "mkdir: ../input/models: File exists\n",
      "mkdir: ../input/models/tmp: File exists\n"
     ]
    }
   ],
   "source": [
    "MODELS_DIR = '../input/models'\n",
    "EXPERIMENT_DIR = MODELS_DIR+'/tmp'\n",
    "!mkdir $MODELS_DIR\n",
    "!mkdir $EXPERIMENT_DIR\n",
    "import shutil\n",
    "\n",
    "# By default pipelines will try to load previously trained models so we delete the cache to ba sure we're starting from scratch\n",
    "shutil.rmtree(EXPERIMENT_DIR, ignore_errors=True)"
   ]
  },
  {
   "cell_type": "markdown",
   "metadata": {},
   "source": [
    "## Input  Datasets"
   ]
  },
  {
   "cell_type": "markdown",
   "metadata": {},
   "source": [
    "Continuous features can exhibit a wide range of distributional characteristics, including near-Gaussian, strongly asymmetric, light- or heavy-tailed, multi-moda\n",
    "\n",
    "Catagorical features  can be  either ordered, or unordered. Catagorical features are not covered here."
   ]
  },
  {
   "cell_type": "markdown",
   "metadata": {},
   "source": [
    "### Boston Dataset"
   ]
  },
  {
   "cell_type": "code",
   "execution_count": 12,
   "metadata": {
    "ExecuteTime": {
     "end_time": "2018-09-08T00:04:40.291803Z",
     "start_time": "2018-09-08T00:04:40.126274Z"
    }
   },
   "outputs": [
    {
     "name": "stdout",
     "output_type": "stream",
     "text": [
      "2018-09-07 20:04:40 steppy >>> ['CRIM' 'ZN' 'INDUS' 'CHAS' 'NOX' 'RM' 'AGE' 'DIS' 'RAD' 'TAX' 'PTRATIO'\n",
      " 'B' 'LSTAT']\n",
      "2018-09-07 20:04:40 steppy >>> Boston House Prices dataset\n",
      "===========================\n",
      "\n",
      "Notes\n",
      "------\n",
      "Data Set Characteristics:  \n",
      "\n",
      "    :Number of Instances: 506 \n",
      "\n",
      "    :Number of Attributes: 13 numeric/categorical predictive\n",
      "    \n",
      "    :Median Value (attribute 14) is usually the target\n",
      "\n",
      "    :Attribute Information (in order):\n",
      "        - CRIM     per capita crime rate by town\n",
      "        - ZN       proportion of residential land zoned for lots over 25,000 sq.ft.\n",
      "        - INDUS    proportion of non-retail business acres per town\n",
      "        - CHAS     Charles River dummy variable (= 1 if tract bounds river; 0 otherwise)\n",
      "        - NOX      nitric oxides concentration (parts per 10 million)\n",
      "        - RM       average number of rooms per dwelling\n",
      "        - AGE      proportion of owner-occupied units built prior to 1940\n",
      "        - DIS      weighted distances to five Boston employment centres\n",
      "        - RAD      index of accessibility to radial highways\n",
      "        - TAX      full-value property-tax rate per $10,000\n",
      "        - PTRATIO  pupil-teacher ratio by town\n",
      "        - B        1000(Bk - 0.63)^2 where Bk is the proportion of blacks by town\n",
      "        - LSTAT    % lower status of the population\n",
      "        - MEDV     Median value of owner-occupied homes in $1000's\n",
      "\n",
      "    :Missing Attribute Values: None\n",
      "\n",
      "    :Creator: Harrison, D. and Rubinfeld, D.L.\n",
      "\n",
      "This is a copy of UCI ML housing dataset.\n",
      "http://archive.ics.uci.edu/ml/datasets/Housing\n",
      "\n",
      "\n",
      "This dataset was taken from the StatLib library which is maintained at Carnegie Mellon University.\n",
      "\n",
      "The Boston house-price data of Harrison, D. and Rubinfeld, D.L. 'Hedonic\n",
      "prices and the demand for clean air', J. Environ. Economics & Management,\n",
      "vol.5, 81-102, 1978.   Used in Belsley, Kuh & Welsch, 'Regression diagnostics\n",
      "...', Wiley, 1980.   N.B. Various transformations are used in the table on\n",
      "pages 244-261 of the latter.\n",
      "\n",
      "The Boston house-price data has been used in many machine learning papers that address regression\n",
      "problems.   \n",
      "     \n",
      "**References**\n",
      "\n",
      "   - Belsley, Kuh & Welsch, 'Regression diagnostics: Identifying Influential Data and Sources of Collinearity', Wiley, 1980. 244-261.\n",
      "   - Quinlan,R. (1993). Combining Instance-Based and Model-Based Learning. In Proceedings on the Tenth International Conference of Machine Learning, 236-243, University of Massachusetts, Amherst. Morgan Kaufmann.\n",
      "   - many more! (see http://archive.ics.uci.edu/ml/datasets/Housing)\n",
      "\n",
      "2018-09-07 20:04:40 steppy >>> (506, 6)\n",
      "2018-09-07 20:04:40 steppy >>> Index(['CRIM', 'INDUS', 'NOX', 'TAX', 'B', 'MEDV'], dtype='object')\n"
     ]
    }
   ],
   "source": [
    "from sklearn.datasets import load_boston\n",
    "boston = load_boston()\n",
    "\n",
    "logger.info(boston.feature_names)\n",
    "logger.info(boston.DESCR)\n",
    "City = pd.DataFrame(boston.data, columns = boston.feature_names )\n",
    "City = City[['CRIM', 'INDUS','NOX','TAX','B']]\n",
    "City['MEDV'] = boston.target\n",
    "logger.info(City.shape)\n",
    "logger.info(City.columns)"
   ]
  },
  {
   "cell_type": "markdown",
   "metadata": {},
   "source": [
    "A dataset that illustrates the range of distributional behavior is the Boston Boston dataframe.  This dataframe includes 14 numerical variables that characterize 506 suburban housing tracts in the Boston area: 12 of these variables have class “numeric” and the remaining two have class “integer”.  \n",
    "\n",
    "-  the distribution of crim is very asymmetric with an extremely heavy right tail;\n",
    "- the distribution of lstat is also clearly asymmetric but far less so;\n",
    "- the distribution of rm appears to be almost Gaussian; \n",
    "- the distribution of zn appears to be tri-modal, mostly concentrated around zero, but with clear secondary peaks at around 20 and 80."
   ]
  },
  {
   "cell_type": "markdown",
   "metadata": {},
   "source": [
    "### Housing Dataset"
   ]
  },
  {
   "cell_type": "markdown",
   "metadata": {},
   "source": [
    "- Feature 0 (median income in a block) and feature 5 (number of households) of\n",
    "the `California housing dataset\n",
    "<http://www.dcc.fc.up.pt/~ltorgo/Regression/cal_housing.html>`_ have very\n",
    "different scales and contain some very large outliers. These two\n",
    "characteristics lead to difficulties to visualize the data and, more\n",
    "importantly, they can degrade the predictive performance of many machine\n",
    "learning algorithms. Unscaled data can also slow down or even prevent the\n",
    "convergence of many gradient-based estimators.\n",
    "- Indeed many estimators are designed with the assumption that each feature takes\n",
    "values close to zero or more importantly that all features vary on comparable\n",
    "scales. In particular, metric-based and gradient-based estimators often assume\n",
    "approximately standardized data (centered features with unit variances). A\n",
    "notable exception are decision tree-based estimators that are robust to\n",
    "arbitrary scaling of the data."
   ]
  },
  {
   "cell_type": "code",
   "execution_count": 13,
   "metadata": {
    "ExecuteTime": {
     "end_time": "2018-09-08T00:04:40.499394Z",
     "start_time": "2018-09-08T00:04:40.294376Z"
    }
   },
   "outputs": [
    {
     "name": "stdout",
     "output_type": "stream",
     "text": [
      "Automatically created module for IPython interactive environment\n",
      "2018-09-07 20:04:40 steppy >>> (20640, 8)\n",
      "2018-09-07 20:04:40 steppy >>> ['MedInc', 'HouseAge', 'AveRooms', 'AveBedrms', 'Population', 'AveOccup', 'Latitude', 'Longitude']\n",
      "2018-09-07 20:04:40 steppy >>> California housing dataset.\n",
      "\n",
      "The original database is available from StatLib\n",
      "\n",
      "    http://lib.stat.cmu.edu/datasets/\n",
      "\n",
      "The data contains 20,640 observations on 9 variables.\n",
      "\n",
      "This dataset contains the average house value as target variable\n",
      "and the following input variables (features): average income,\n",
      "housing average age, average rooms, average bedrooms, population,\n",
      "average occupation, latitude, and longitude in that order.\n",
      "\n",
      "References\n",
      "----------\n",
      "\n",
      "Pace, R. Kelley and Ronald Barry, Sparse Spatial Autoregressions,\n",
      "Statistics and Probability Letters, 33 (1997) 291-297.\n",
      "\n",
      "\n",
      "2018-09-07 20:04:40 steppy >>> (20640, 6)\n",
      "2018-09-07 20:04:40 steppy >>> Index(['MedInc', 'HouseAge', 'AveRooms', 'AveBedrms', 'Population',\n",
      "       'AveOccup'],\n",
      "      dtype='object')\n"
     ]
    }
   ],
   "source": [
    "from sklearn.datasets import fetch_california_housing\n",
    "print(__doc__)\n",
    "dataset = fetch_california_housing()\n",
    "X_full, y_full = dataset.data, dataset.target\n",
    "\n",
    "# Take only 2 features to make visualization easier\n",
    "# Feature of 0 has a long tail distribution.\n",
    "# Feature 5 has a few but very large outliers.\n",
    "logger.info(dataset.data.shape)\n",
    "logger.info(dataset.feature_names)\n",
    "logger.info(dataset.DESCR) \n",
    "Housing = pd.DataFrame(dataset.data, columns = dataset.feature_names )\n",
    "keeppers = ['MedInc', 'HouseAge', 'AveRooms'\n",
    "                   , 'AveBedrms', 'Population', 'AveOccup']\n",
    "Housing = Housing[keeppers]\n",
    "logger.info(Housing.shape)\n",
    "logger.info(Housing.columns)"
   ]
  },
  {
   "cell_type": "markdown",
   "metadata": {
    "heading_collapsed": true
   },
   "source": [
    "### Hip_m Dataset"
   ]
  },
  {
   "cell_type": "code",
   "execution_count": 14,
   "metadata": {
    "ExecuteTime": {
     "end_time": "2018-09-08T00:04:40.565016Z",
     "start_time": "2018-09-08T00:04:40.502093Z"
    },
    "hidden": true
   },
   "outputs": [
    {
     "data": {
      "text/plain": [
       "\"\\nhip_m=np.genfromtxt('HIP_MEN_chr_pos_rs_pval.txt', dtype=None)\\nhip_m= pd.DataFrame(hip_m[['f0','f1','f2','f3']])\\nHip_m= hip_m\\nhip_m= hip_m[['f1','f3']]\\nlogger.info(hip_m.shape)\\nlogger.info(hip_m.head())\\n\""
      ]
     },
     "execution_count": 14,
     "metadata": {},
     "output_type": "execute_result"
    }
   ],
   "source": [
    "'''\n",
    "hip_m=np.genfromtxt('HIP_MEN_chr_pos_rs_pval.txt', dtype=None)\n",
    "hip_m= pd.DataFrame(hip_m[['f0','f1','f2','f3']])\n",
    "Hip_m= hip_m\n",
    "hip_m= hip_m[['f1','f3']]\n",
    "logger.info(hip_m.shape)\n",
    "logger.info(hip_m.head())\n",
    "'''\n"
   ]
  },
  {
   "cell_type": "markdown",
   "metadata": {},
   "source": [
    "# toDataFrame"
   ]
  },
  {
   "cell_type": "markdown",
   "metadata": {
    "ExecuteTime": {
     "end_time": "2018-09-03T19:23:57.669517Z",
     "start_time": "2018-09-03T19:23:57.620787Z"
    }
   },
   "source": [
    "## Adaptors"
   ]
  },
  {
   "cell_type": "code",
   "execution_count": 15,
   "metadata": {
    "ExecuteTime": {
     "end_time": "2018-09-08T00:04:40.628027Z",
     "start_time": "2018-09-08T00:04:40.567734Z"
    }
   },
   "outputs": [],
   "source": [
    "some_other_bound_variable = 0\n",
    "Housing = Housing.values\n",
    "Housing_o = Housing.copy()"
   ]
  },
  {
   "cell_type": "code",
   "execution_count": 16,
   "metadata": {
    "ExecuteTime": {
     "end_time": "2018-09-08T00:04:40.697663Z",
     "start_time": "2018-09-08T00:04:40.630852Z"
    }
   },
   "outputs": [
    {
     "data": {
      "text/plain": [
       "\"\\nHip_m_o = Hip_m.copy()\\ndata_Hip_m = {\\n    'input': {\\n        'features': Hip_m,\\n        'features_o': Hip_m_o\\n    }\\n}\\n\""
      ]
     },
     "execution_count": 16,
     "metadata": {},
     "output_type": "execute_result"
    }
   ],
   "source": [
    "data_Housing_str = {\n",
    "    'input': {\n",
    "        'features': Housing,\n",
    "        'features_o': Housing_o,\n",
    "        'labels': 'Income'\n",
    "    }\n",
    "}\n",
    "data_Housing_list = {\n",
    "    'input': {\n",
    "        'features': Housing,\n",
    "        'features_o': Housing_o,\n",
    "        'labels': ['Income']\n",
    "    }\n",
    "}\n",
    "data_Housing_mlist = {\n",
    "    'input': {\n",
    "        'features': Housing,\n",
    "        'features_o': Housing_o,\n",
    "        'labels': keeppers +['bogie']\n",
    "    }\n",
    "}\n",
    "data_Housing_bad = {\n",
    "    'input': {\n",
    "        'features': np.ndarray([1,2,3]),\n",
    "        'features_o':  np.ndarray([1,2,3]),\n",
    "        'labels': 'Income'\n",
    "    }\n",
    "}\n",
    "City_o = City.copy()\n",
    "data_City = {\n",
    "    'input': {\n",
    "        'features': City,\n",
    "        'features_o': City_o,\n",
    "        'labels': ['CRIME']\n",
    "    }\n",
    "}\n",
    "\n",
    "'''\n",
    "Hip_m_o = Hip_m.copy()\n",
    "data_Hip_m = {\n",
    "    'input': {\n",
    "        'features': Hip_m,\n",
    "        'features_o': Hip_m_o\n",
    "    }\n",
    "}\n",
    "'''"
   ]
  },
  {
   "cell_type": "markdown",
   "metadata": {},
   "source": [
    "## toDataFrame_step"
   ]
  },
  {
   "cell_type": "code",
   "execution_count": 17,
   "metadata": {
    "ExecuteTime": {
     "end_time": "2018-09-08T00:04:40.764353Z",
     "start_time": "2018-09-08T00:04:40.700414Z"
    }
   },
   "outputs": [
    {
     "name": "stdout",
     "output_type": "stream",
     "text": [
      "2018-09-07 20:04:40 steppy >>> initializing Step toDataFrame...\n",
      "2018-09-07 20:04:40 steppy >>> initializing experiment directories under ../input/models/tmp\n",
      "2018-09-07 20:04:40 steppy >>> done: initializing experiment directories\n",
      "2018-09-07 20:04:40 steppy >>> Step toDataFrame initialized\n"
     ]
    }
   ],
   "source": [
    "toDataFrame_step = Step(name='toDataFrame',\n",
    "               transformer=S_toDataFrame(),\n",
    "               input_data=['input'],\n",
    "               adapter=Adapter({\n",
    "                   'X': E('input','features_o'),\n",
    "                    'labels': E('input','labels')\n",
    "               }),\n",
    "               experiment_directory=EXPERIMENT_DIR,\n",
    "                is_trainable=False,\n",
    "                force_fitting=False)"
   ]
  },
  {
   "cell_type": "code",
   "execution_count": 18,
   "metadata": {
    "ExecuteTime": {
     "end_time": "2018-09-08T00:04:40.838205Z",
     "start_time": "2018-09-08T00:04:40.767292Z"
    }
   },
   "outputs": [
    {
     "ename": "InvocationException",
     "evalue": "GraphViz's executables not found",
     "output_type": "error",
     "traceback": [
      "\u001b[0;31m---------------------------------------------------------------------------\u001b[0m",
      "\u001b[0;31mInvocationException\u001b[0m                       Traceback (most recent call last)",
      "\u001b[0;32m~/anaconda3/envs/steppy/lib/python3.6/site-packages/IPython/core/formatters.py\u001b[0m in \u001b[0;36m__call__\u001b[0;34m(self, obj)\u001b[0m\n\u001b[1;32m    343\u001b[0m             \u001b[0mmethod\u001b[0m \u001b[0;34m=\u001b[0m \u001b[0mget_real_method\u001b[0m\u001b[0;34m(\u001b[0m\u001b[0mobj\u001b[0m\u001b[0;34m,\u001b[0m \u001b[0mself\u001b[0m\u001b[0;34m.\u001b[0m\u001b[0mprint_method\u001b[0m\u001b[0;34m)\u001b[0m\u001b[0;34m\u001b[0m\u001b[0m\n\u001b[1;32m    344\u001b[0m             \u001b[0;32mif\u001b[0m \u001b[0mmethod\u001b[0m \u001b[0;32mis\u001b[0m \u001b[0;32mnot\u001b[0m \u001b[0;32mNone\u001b[0m\u001b[0;34m:\u001b[0m\u001b[0;34m\u001b[0m\u001b[0m\n\u001b[0;32m--> 345\u001b[0;31m                 \u001b[0;32mreturn\u001b[0m \u001b[0mmethod\u001b[0m\u001b[0;34m(\u001b[0m\u001b[0;34m)\u001b[0m\u001b[0;34m\u001b[0m\u001b[0m\n\u001b[0m\u001b[1;32m    346\u001b[0m             \u001b[0;32mreturn\u001b[0m \u001b[0;32mNone\u001b[0m\u001b[0;34m\u001b[0m\u001b[0m\n\u001b[1;32m    347\u001b[0m         \u001b[0;32melse\u001b[0m\u001b[0;34m:\u001b[0m\u001b[0;34m\u001b[0m\u001b[0m\n",
      "\u001b[0;32m~/anaconda3/envs/steppy/lib/python3.6/site-packages/steppy/base.py\u001b[0m in \u001b[0;36m_repr_html_\u001b[0;34m(self)\u001b[0m\n\u001b[1;32m    534\u001b[0m \u001b[0;34m\u001b[0m\u001b[0m\n\u001b[1;32m    535\u001b[0m     \u001b[0;32mdef\u001b[0m \u001b[0m_repr_html_\u001b[0m\u001b[0;34m(\u001b[0m\u001b[0mself\u001b[0m\u001b[0;34m)\u001b[0m\u001b[0;34m:\u001b[0m\u001b[0;34m\u001b[0m\u001b[0m\n\u001b[0;32m--> 536\u001b[0;31m         \u001b[0;32mreturn\u001b[0m \u001b[0mdisplay_pipeline\u001b[0m\u001b[0;34m(\u001b[0m\u001b[0mself\u001b[0m\u001b[0;34m.\u001b[0m\u001b[0mupstream_pipeline_structure\u001b[0m\u001b[0;34m)\u001b[0m\u001b[0;34m\u001b[0m\u001b[0m\n\u001b[0m\u001b[1;32m    537\u001b[0m \u001b[0;34m\u001b[0m\u001b[0m\n\u001b[1;32m    538\u001b[0m     \u001b[0;32mdef\u001b[0m \u001b[0m__str__\u001b[0m\u001b[0;34m(\u001b[0m\u001b[0mself\u001b[0m\u001b[0;34m)\u001b[0m\u001b[0;34m:\u001b[0m\u001b[0;34m\u001b[0m\u001b[0m\n",
      "\u001b[0;32m~/anaconda3/envs/steppy/lib/python3.6/site-packages/steppy/utils.py\u001b[0m in \u001b[0;36mdisplay_pipeline\u001b[0;34m(structure_dict)\u001b[0m\n\u001b[1;32m     77\u001b[0m     \"\"\"\n\u001b[1;32m     78\u001b[0m     \u001b[0mgraph\u001b[0m \u001b[0;34m=\u001b[0m \u001b[0m_create_graph\u001b[0m\u001b[0;34m(\u001b[0m\u001b[0mstructure_dict\u001b[0m\u001b[0;34m)\u001b[0m\u001b[0;34m\u001b[0m\u001b[0m\n\u001b[0;32m---> 79\u001b[0;31m     \u001b[0mplt\u001b[0m \u001b[0;34m=\u001b[0m \u001b[0mImage\u001b[0m\u001b[0;34m(\u001b[0m\u001b[0mgraph\u001b[0m\u001b[0;34m.\u001b[0m\u001b[0mcreate_png\u001b[0m\u001b[0;34m(\u001b[0m\u001b[0;34m)\u001b[0m\u001b[0;34m)\u001b[0m\u001b[0;34m\u001b[0m\u001b[0m\n\u001b[0m\u001b[1;32m     80\u001b[0m     \u001b[0mdisplay\u001b[0m\u001b[0;34m(\u001b[0m\u001b[0mplt\u001b[0m\u001b[0;34m)\u001b[0m\u001b[0;34m\u001b[0m\u001b[0m\n\u001b[1;32m     81\u001b[0m \u001b[0;34m\u001b[0m\u001b[0m\n",
      "\u001b[0;32m~/anaconda3/envs/steppy/lib/python3.6/site-packages/pydot_ng/__init__.py\u001b[0m in \u001b[0;36m<lambda>\u001b[0;34m(f, prog)\u001b[0m\n\u001b[1;32m   1730\u001b[0m             self.__setattr__(\n\u001b[1;32m   1731\u001b[0m                 \u001b[0;34m'create_'\u001b[0m \u001b[0;34m+\u001b[0m \u001b[0mfrmt\u001b[0m\u001b[0;34m,\u001b[0m\u001b[0;34m\u001b[0m\u001b[0m\n\u001b[0;32m-> 1732\u001b[0;31m                 \u001b[0;32mlambda\u001b[0m \u001b[0mf\u001b[0m\u001b[0;34m=\u001b[0m\u001b[0mfrmt\u001b[0m\u001b[0;34m,\u001b[0m \u001b[0mprog\u001b[0m\u001b[0;34m=\u001b[0m\u001b[0mself\u001b[0m\u001b[0;34m.\u001b[0m\u001b[0mprog\u001b[0m\u001b[0;34m:\u001b[0m \u001b[0mself\u001b[0m\u001b[0;34m.\u001b[0m\u001b[0mcreate\u001b[0m\u001b[0;34m(\u001b[0m\u001b[0mformat\u001b[0m\u001b[0;34m=\u001b[0m\u001b[0mf\u001b[0m\u001b[0;34m,\u001b[0m \u001b[0mprog\u001b[0m\u001b[0;34m=\u001b[0m\u001b[0mprog\u001b[0m\u001b[0;34m)\u001b[0m\u001b[0;34m\u001b[0m\u001b[0m\n\u001b[0m\u001b[1;32m   1733\u001b[0m                 )\n\u001b[1;32m   1734\u001b[0m             \u001b[0mf\u001b[0m \u001b[0;34m=\u001b[0m \u001b[0mself\u001b[0m\u001b[0;34m.\u001b[0m\u001b[0m__dict__\u001b[0m\u001b[0;34m[\u001b[0m\u001b[0;34m'create_'\u001b[0m \u001b[0;34m+\u001b[0m \u001b[0mfrmt\u001b[0m\u001b[0;34m]\u001b[0m\u001b[0;34m\u001b[0m\u001b[0m\n",
      "\u001b[0;32m~/anaconda3/envs/steppy/lib/python3.6/site-packages/pydot_ng/__init__.py\u001b[0m in \u001b[0;36mcreate\u001b[0;34m(self, prog, format)\u001b[0m\n\u001b[1;32m   1888\u001b[0m             \u001b[0;32mif\u001b[0m \u001b[0mself\u001b[0m\u001b[0;34m.\u001b[0m\u001b[0mprogs\u001b[0m \u001b[0;32mis\u001b[0m \u001b[0;32mNone\u001b[0m\u001b[0;34m:\u001b[0m\u001b[0;34m\u001b[0m\u001b[0m\n\u001b[1;32m   1889\u001b[0m                 raise InvocationException(\n\u001b[0;32m-> 1890\u001b[0;31m                     'GraphViz\\'s executables not found')\n\u001b[0m\u001b[1;32m   1891\u001b[0m \u001b[0;34m\u001b[0m\u001b[0m\n\u001b[1;32m   1892\u001b[0m         \u001b[0;32mif\u001b[0m \u001b[0mprog\u001b[0m \u001b[0;32mnot\u001b[0m \u001b[0;32min\u001b[0m \u001b[0mself\u001b[0m\u001b[0;34m.\u001b[0m\u001b[0mprogs\u001b[0m\u001b[0;34m:\u001b[0m\u001b[0;34m\u001b[0m\u001b[0m\n",
      "\u001b[0;31mInvocationException\u001b[0m: GraphViz's executables not found"
     ]
    },
    {
     "data": {
      "text/plain": [
       "<steppy.base.Step at 0x10ccb47f0>"
      ]
     },
     "execution_count": 18,
     "metadata": {},
     "output_type": "execute_result"
    }
   ],
   "source": [
    "toDataFrame_step "
   ]
  },
  {
   "cell_type": "markdown",
   "metadata": {},
   "source": [
    "## toDataFrame_step test"
   ]
  },
  {
   "cell_type": "code",
   "execution_count": 24,
   "metadata": {
    "ExecuteTime": {
     "end_time": "2018-09-08T00:05:25.753719Z",
     "start_time": "2018-09-08T00:05:25.695280Z"
    }
   },
   "outputs": [
    {
     "name": "stdout",
     "output_type": "stream",
     "text": [
      "2018-09-07 20:05:25 steppy >>> Step toDataFrame, adapting inputs...\n",
      "2018-09-07 20:05:25 steppy >>> Step toDataFrame, transforming...\n"
     ]
    }
   ],
   "source": [
    "#causes error\n",
    "try:\n",
    "    print(toDataFrame_step.transform(data_Housing_bad)['X'].head(2))\n",
    "except: pass"
   ]
  },
  {
   "cell_type": "code",
   "execution_count": 25,
   "metadata": {
    "ExecuteTime": {
     "end_time": "2018-09-08T00:05:25.820050Z",
     "start_time": "2018-09-08T00:05:25.756333Z"
    }
   },
   "outputs": [
    {
     "name": "stdout",
     "output_type": "stream",
     "text": [
      "2018-09-07 20:05:25 steppy >>> Step toDataFrame, adapting inputs...\n",
      "2018-09-07 20:05:25 steppy >>> Step toDataFrame, transforming...\n"
     ]
    },
    {
     "data": {
      "text/html": [
       "<div>\n",
       "<style scoped>\n",
       "    .dataframe tbody tr th:only-of-type {\n",
       "        vertical-align: middle;\n",
       "    }\n",
       "\n",
       "    .dataframe tbody tr th {\n",
       "        vertical-align: top;\n",
       "    }\n",
       "\n",
       "    .dataframe thead th {\n",
       "        text-align: right;\n",
       "    }\n",
       "</style>\n",
       "<table border=\"1\" class=\"dataframe\">\n",
       "  <thead>\n",
       "    <tr style=\"text-align: right;\">\n",
       "      <th></th>\n",
       "      <th>Income</th>\n",
       "      <th>Column_1</th>\n",
       "      <th>Column_2</th>\n",
       "      <th>Column_3</th>\n",
       "      <th>Column_4</th>\n",
       "      <th>Column_5</th>\n",
       "    </tr>\n",
       "  </thead>\n",
       "  <tbody>\n",
       "    <tr>\n",
       "      <th>0</th>\n",
       "      <td>8.3252</td>\n",
       "      <td>41.0</td>\n",
       "      <td>6.984127</td>\n",
       "      <td>1.02381</td>\n",
       "      <td>322.0</td>\n",
       "      <td>2.555556</td>\n",
       "    </tr>\n",
       "    <tr>\n",
       "      <th>1</th>\n",
       "      <td>8.3014</td>\n",
       "      <td>21.0</td>\n",
       "      <td>6.238137</td>\n",
       "      <td>0.97188</td>\n",
       "      <td>2401.0</td>\n",
       "      <td>2.109842</td>\n",
       "    </tr>\n",
       "  </tbody>\n",
       "</table>\n",
       "</div>"
      ],
      "text/plain": [
       "   Income  Column_1  Column_2  Column_3  Column_4  Column_5\n",
       "0  8.3252      41.0  6.984127   1.02381     322.0  2.555556\n",
       "1  8.3014      21.0  6.238137   0.97188    2401.0  2.109842"
      ]
     },
     "execution_count": 25,
     "metadata": {},
     "output_type": "execute_result"
    }
   ],
   "source": [
    "toDataFrame_step.transform(data_Housing_str)['X'].head(2)"
   ]
  },
  {
   "cell_type": "code",
   "execution_count": 26,
   "metadata": {
    "ExecuteTime": {
     "end_time": "2018-09-08T00:05:25.889991Z",
     "start_time": "2018-09-08T00:05:25.822712Z"
    }
   },
   "outputs": [
    {
     "name": "stdout",
     "output_type": "stream",
     "text": [
      "2018-09-07 20:05:25 steppy >>> Step toDataFrame, adapting inputs...\n",
      "2018-09-07 20:05:25 steppy >>> Step toDataFrame, transforming...\n"
     ]
    },
    {
     "data": {
      "text/html": [
       "<div>\n",
       "<style scoped>\n",
       "    .dataframe tbody tr th:only-of-type {\n",
       "        vertical-align: middle;\n",
       "    }\n",
       "\n",
       "    .dataframe tbody tr th {\n",
       "        vertical-align: top;\n",
       "    }\n",
       "\n",
       "    .dataframe thead th {\n",
       "        text-align: right;\n",
       "    }\n",
       "</style>\n",
       "<table border=\"1\" class=\"dataframe\">\n",
       "  <thead>\n",
       "    <tr style=\"text-align: right;\">\n",
       "      <th></th>\n",
       "      <th>Income</th>\n",
       "      <th>Column_1</th>\n",
       "      <th>Column_2</th>\n",
       "      <th>Column_3</th>\n",
       "      <th>Column_4</th>\n",
       "      <th>Column_5</th>\n",
       "    </tr>\n",
       "  </thead>\n",
       "  <tbody>\n",
       "    <tr>\n",
       "      <th>0</th>\n",
       "      <td>8.3252</td>\n",
       "      <td>41.0</td>\n",
       "      <td>6.984127</td>\n",
       "      <td>1.02381</td>\n",
       "      <td>322.0</td>\n",
       "      <td>2.555556</td>\n",
       "    </tr>\n",
       "    <tr>\n",
       "      <th>1</th>\n",
       "      <td>8.3014</td>\n",
       "      <td>21.0</td>\n",
       "      <td>6.238137</td>\n",
       "      <td>0.97188</td>\n",
       "      <td>2401.0</td>\n",
       "      <td>2.109842</td>\n",
       "    </tr>\n",
       "  </tbody>\n",
       "</table>\n",
       "</div>"
      ],
      "text/plain": [
       "   Income  Column_1  Column_2  Column_3  Column_4  Column_5\n",
       "0  8.3252      41.0  6.984127   1.02381     322.0  2.555556\n",
       "1  8.3014      21.0  6.238137   0.97188    2401.0  2.109842"
      ]
     },
     "execution_count": 26,
     "metadata": {},
     "output_type": "execute_result"
    }
   ],
   "source": [
    "toDataFrame_step.transform(data_Housing_list)['X'].head(2)"
   ]
  },
  {
   "cell_type": "code",
   "execution_count": 27,
   "metadata": {
    "ExecuteTime": {
     "end_time": "2018-09-08T00:05:25.960340Z",
     "start_time": "2018-09-08T00:05:25.893240Z"
    }
   },
   "outputs": [
    {
     "name": "stdout",
     "output_type": "stream",
     "text": [
      "2018-09-07 20:05:25 steppy >>> Step toDataFrame, adapting inputs...\n",
      "2018-09-07 20:05:25 steppy >>> Step toDataFrame, transforming...\n"
     ]
    },
    {
     "data": {
      "text/html": [
       "<div>\n",
       "<style scoped>\n",
       "    .dataframe tbody tr th:only-of-type {\n",
       "        vertical-align: middle;\n",
       "    }\n",
       "\n",
       "    .dataframe tbody tr th {\n",
       "        vertical-align: top;\n",
       "    }\n",
       "\n",
       "    .dataframe thead th {\n",
       "        text-align: right;\n",
       "    }\n",
       "</style>\n",
       "<table border=\"1\" class=\"dataframe\">\n",
       "  <thead>\n",
       "    <tr style=\"text-align: right;\">\n",
       "      <th></th>\n",
       "      <th>MedInc</th>\n",
       "      <th>HouseAge</th>\n",
       "      <th>AveRooms</th>\n",
       "      <th>AveBedrms</th>\n",
       "      <th>Population</th>\n",
       "      <th>AveOccup</th>\n",
       "    </tr>\n",
       "  </thead>\n",
       "  <tbody>\n",
       "    <tr>\n",
       "      <th>0</th>\n",
       "      <td>8.3252</td>\n",
       "      <td>41.0</td>\n",
       "      <td>6.984127</td>\n",
       "      <td>1.02381</td>\n",
       "      <td>322.0</td>\n",
       "      <td>2.555556</td>\n",
       "    </tr>\n",
       "    <tr>\n",
       "      <th>1</th>\n",
       "      <td>8.3014</td>\n",
       "      <td>21.0</td>\n",
       "      <td>6.238137</td>\n",
       "      <td>0.97188</td>\n",
       "      <td>2401.0</td>\n",
       "      <td>2.109842</td>\n",
       "    </tr>\n",
       "  </tbody>\n",
       "</table>\n",
       "</div>"
      ],
      "text/plain": [
       "   MedInc  HouseAge  AveRooms  AveBedrms  Population  AveOccup\n",
       "0  8.3252      41.0  6.984127    1.02381       322.0  2.555556\n",
       "1  8.3014      21.0  6.238137    0.97188      2401.0  2.109842"
      ]
     },
     "execution_count": 27,
     "metadata": {},
     "output_type": "execute_result"
    }
   ],
   "source": [
    "toDataFrame_step.transform(data_Housing_mlist)['X'].head(2)"
   ]
  },
  {
   "cell_type": "code",
   "execution_count": 28,
   "metadata": {
    "ExecuteTime": {
     "end_time": "2018-09-08T00:05:26.029066Z",
     "start_time": "2018-09-08T00:05:25.963269Z"
    }
   },
   "outputs": [
    {
     "name": "stdout",
     "output_type": "stream",
     "text": [
      "2018-09-07 20:05:26 steppy >>> Step toDataFrame, adapting inputs...\n",
      "2018-09-07 20:05:26 steppy >>> Step toDataFrame, transforming...\n"
     ]
    },
    {
     "data": {
      "text/html": [
       "<div>\n",
       "<style scoped>\n",
       "    .dataframe tbody tr th:only-of-type {\n",
       "        vertical-align: middle;\n",
       "    }\n",
       "\n",
       "    .dataframe tbody tr th {\n",
       "        vertical-align: top;\n",
       "    }\n",
       "\n",
       "    .dataframe thead th {\n",
       "        text-align: right;\n",
       "    }\n",
       "</style>\n",
       "<table border=\"1\" class=\"dataframe\">\n",
       "  <thead>\n",
       "    <tr style=\"text-align: right;\">\n",
       "      <th></th>\n",
       "      <th>CRIM</th>\n",
       "      <th>INDUS</th>\n",
       "      <th>NOX</th>\n",
       "      <th>TAX</th>\n",
       "      <th>B</th>\n",
       "      <th>MEDV</th>\n",
       "    </tr>\n",
       "  </thead>\n",
       "  <tbody>\n",
       "    <tr>\n",
       "      <th>0</th>\n",
       "      <td>0.00632</td>\n",
       "      <td>2.31</td>\n",
       "      <td>0.538</td>\n",
       "      <td>296.0</td>\n",
       "      <td>396.9</td>\n",
       "      <td>24.0</td>\n",
       "    </tr>\n",
       "    <tr>\n",
       "      <th>1</th>\n",
       "      <td>0.02731</td>\n",
       "      <td>7.07</td>\n",
       "      <td>0.469</td>\n",
       "      <td>242.0</td>\n",
       "      <td>396.9</td>\n",
       "      <td>21.6</td>\n",
       "    </tr>\n",
       "  </tbody>\n",
       "</table>\n",
       "</div>"
      ],
      "text/plain": [
       "      CRIM  INDUS    NOX    TAX      B  MEDV\n",
       "0  0.00632   2.31  0.538  296.0  396.9  24.0\n",
       "1  0.02731   7.07  0.469  242.0  396.9  21.6"
      ]
     },
     "execution_count": 28,
     "metadata": {},
     "output_type": "execute_result"
    }
   ],
   "source": [
    "toDataFrame_step.transform(data_City)['X'].head(2)"
   ]
  },
  {
   "cell_type": "markdown",
   "metadata": {},
   "source": [
    "# References"
   ]
  },
  {
   "cell_type": "markdown",
   "metadata": {
    "collapsed": true
   },
   "source": []
  },
  {
   "cell_type": "markdown",
   "metadata": {
    "collapsed": true
   },
   "source": []
  },
  {
   "cell_type": "markdown",
   "metadata": {
    "collapsed": true
   },
   "source": []
  },
  {
   "cell_type": "markdown",
   "metadata": {
    "collapsed": true
   },
   "source": []
  }
 ],
 "metadata": {
  "hide_input": false,
  "kernelspec": {
   "display_name": "Python 3",
   "language": "python",
   "name": "python3"
  },
  "language_info": {
   "codemirror_mode": {
    "name": "ipython",
    "version": 3
   },
   "file_extension": ".py",
   "mimetype": "text/x-python",
   "name": "python",
   "nbconvert_exporter": "python",
   "pygments_lexer": "ipython3",
   "version": "3.6.5"
  },
  "toc": {
   "colors": {
    "hover_highlight": "#DAA520",
    "running_highlight": "#FF0000",
    "selected_highlight": "#FFD700"
   },
   "moveMenuLeft": true,
   "nav_menu": {
    "height": "208px",
    "width": "252px"
   },
   "navigate_menu": true,
   "number_sections": true,
   "sideBar": true,
   "threshold": 4,
   "toc_cell": false,
   "toc_position": {
    "height": "817px",
    "left": "0px",
    "right": "982.5679321289063px",
    "top": "128.99456787109375px",
    "width": "167px"
   },
   "toc_section_display": "block",
   "toc_window_display": true,
   "widenNotebook": false
  }
 },
 "nbformat": 4,
 "nbformat_minor": 2
}
